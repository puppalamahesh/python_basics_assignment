{
  "nbformat": 4,
  "nbformat_minor": 0,
  "metadata": {
    "colab": {
      "provenance": []
    },
    "kernelspec": {
      "name": "python3",
      "display_name": "Python 3"
    },
    "language_info": {
      "name": "python"
    }
  },
  "cells": [
    {
      "cell_type": "markdown",
      "source": [
        "**1. Discuss string slicing and provide examples?**\n",
        "\n",
        "String slicing is a method in Python to extract specific portions (substrings) of a string by specifying the starting and ending positions and, optionally, the step size.\n",
        "\n",
        "It uses the syntax:\n",
        "\n",
        "Breakdown:\n",
        "start: The index where the slice begins (inclusive).\n",
        "end: The index where the slice stops (exclusive).\n",
        "step: The step size, or the interval between characters (optional, defaults to 1)."
      ],
      "metadata": {
        "id": "-Hnbw0Rvacgx"
      }
    },
    {
      "cell_type": "code",
      "execution_count": 2,
      "metadata": {
        "id": "qXS8hXtEZ9zM",
        "colab": {
          "base_uri": "https://localhost:8080/"
        },
        "outputId": "1f9e03b3-271b-44a2-e5cd-26b1293672f0"
      },
      "outputs": [
        {
          "output_type": "stream",
          "name": "stdout",
          "text": [
            "Discu\n",
            "Dcstnscgnpvexps\n",
            "selpm\n"
          ]
        }
      ],
      "source": [
        "s=\"Discuss string slicing and provide examples\"\n",
        "print(s[0:5:1])   # Output: 'Hello' (slicing from 0 to 4 with step 1)\n",
        "print(s[::3])     # Output: 'Hl r!' (every third character)\n",
        "print(s[-1:-6:-1])  # Output: '!dlro' (reverse slice from end to start)\n"
      ]
    },
    {
      "cell_type": "markdown",
      "source": [
        "**2.Explain the key features of lists in Python?**\n",
        "\n",
        "###Key Features of Lists in Python:\n",
        "\n",
        "#####Ordered Collection:\n",
        "\n",
        "Lists maintain the order of elements. The items are stored in a specific sequence, and you can access them using their index.\n",
        "\n",
        "#####Mutable (Changeable):\n",
        "\n",
        "Lists allow modification of their elements. You can change the values, add new elements, or remove existing ones.\n",
        "\n",
        "#####Heterogeneous Elements:\n",
        "\n",
        "Lists can contain elements of different types (integers, strings, floats, other lists, etc.).\n",
        "\n",
        "#####Dynamic Size:\n",
        "\n",
        "Lists can grow or shrink dynamically, meaning you can add or remove elements as needed.\n",
        "\n",
        "#####Indexed Access:\n",
        "\n",
        "Elements in a list are accessed using their index, starting from 0 for the first element, and negative indices to access from the end."
      ],
      "metadata": {
        "id": "x2OI3W27q7l1"
      }
    },
    {
      "cell_type": "code",
      "source": [
        "my_list = [1, 2, 3, 4]\n",
        "print(my_list[0])  # Output: 1 (first element)\n",
        "\n",
        "my_list = [1, 2, 3]\n",
        "my_list[1] = 5   # Changing the second element\n",
        "print(my_list)   # Output: [1, 5, 3]\n",
        "\n",
        "my_list = [1, \"hello\", 3.14]\n",
        "print(my_list)   # Output: [1, \"hello\", 3.14]\n",
        "\n",
        "my_list = [1, 2]\n",
        "my_list.append(3)  # Adds 3 to the list\n",
        "print(my_list)     # Output: [1, 2, 3]\n",
        "\n",
        "my_list = [1, 2, 3]\n",
        "del my_list[1]     # Removes the second element (2)\n",
        "print(my_list)     # Output: [1,3]"
      ],
      "metadata": {
        "colab": {
          "base_uri": "https://localhost:8080/"
        },
        "id": "ibst6FJErQsE",
        "outputId": "5d6cee3f-4730-4b01-e027-a498b16bf4f4"
      },
      "execution_count": 3,
      "outputs": [
        {
          "output_type": "stream",
          "name": "stdout",
          "text": [
            "1\n",
            "[1, 5, 3]\n",
            "[1, 'hello', 3.14]\n",
            "[1, 2, 3]\n",
            "[1, 3]\n"
          ]
        }
      ]
    },
    {
      "cell_type": "markdown",
      "source": [
        "**3.Describe how to access, modify and delete elements in a list with examples?**\n",
        "\n",
        "####Accessing, Modifying, and Deleting Elements in a List\n",
        "**Accessing Elements:**\n",
        "\n",
        "Use indexing to access list elements. Positive indices start from 0, and negative indices start from -1 (accessing from the end).\n",
        "\n",
        "**Modifying Elements:**\n",
        "\n",
        "Modify a list by assigning a new value to a specific index.\n",
        "\n",
        "**Deleting Elements:**\n",
        "\n",
        "Use del to delete by index or remove() to delete by value"
      ],
      "metadata": {
        "id": "yD-dkoovtObn"
      }
    },
    {
      "cell_type": "code",
      "source": [
        "#Accessing Elements:\n",
        "my_list = [10, 20, 30, 40]\n",
        "print(my_list[1])  # Output: 20 (second element)\n",
        "print(my_list[-1])  # Output: 40 (last element)\n",
        "\n",
        "#Modifying Elements:\n",
        "my_list = [10, 20, 30]\n",
        "my_list[1] = 50  # Changing the second element\n",
        "print(my_list)  # Output: [10, 50, 30]\n",
        "\n",
        "#Deleting Elements:\n",
        "my_list = [10, 20, 30]\n",
        "del my_list[1]  # Deletes the second element\n",
        "print(my_list)  # Output: [10, 30]\n"
      ],
      "metadata": {
        "colab": {
          "base_uri": "https://localhost:8080/"
        },
        "id": "nz0PY53Zve4O",
        "outputId": "bb5b81c8-2069-47ad-fdab-9389b5413ddd"
      },
      "execution_count": 4,
      "outputs": [
        {
          "output_type": "stream",
          "name": "stdout",
          "text": [
            "20\n",
            "40\n",
            "[10, 50, 30]\n",
            "[10, 30]\n"
          ]
        }
      ]
    },
    {
      "cell_type": "markdown",
      "source": [
        "**4.compare and contrast tuples and lists with examples?**\n",
        "\n",
        "### Comparison of Tuples and Lists\n",
        "**Mutability:**\n",
        "\n",
        "Lists are mutable (can be changed after creation).\n",
        "Tuples are immutable (cannot be changed after creation).\n",
        "\n",
        "**Syntax:**\n",
        "\n",
        "Lists use square brackets [].\n",
        "Tuples use parentheses ().\n",
        "\n",
        "**Performance:**\n",
        "\n",
        "Tuples are generally faster than lists because of their immutability.\n",
        "Lists are slower but more flexible due to their mutability.\n",
        "\n",
        "**Usage:**\n",
        "\n",
        "Use lists when you need to modify the collection.\n",
        "Use tuples when you want a fixed collection of items."
      ],
      "metadata": {
        "id": "UJ-svsk8wS93"
      }
    },
    {
      "cell_type": "code",
      "source": [
        "my_list = [1, 2, 3]\n",
        "my_list[0] = 10\n",
        "print(my_list) # Works, list is mutable\n",
        "\n",
        "my_tuple = (1, 2, 3)\n",
        "print(my_tuple)# my_tuple[0] = 10  # Error, tuple is immutable\n",
        "\n",
        "my_list = [1, 2, 3]  # List\n",
        "my_tuple = (1, 2, 3)  # Tuple\n"
      ],
      "metadata": {
        "colab": {
          "base_uri": "https://localhost:8080/"
        },
        "id": "vh3b_zVVyNWu",
        "outputId": "bce150c6-c221-4776-bf32-dfb835c49d60"
      },
      "execution_count": 7,
      "outputs": [
        {
          "output_type": "stream",
          "name": "stdout",
          "text": [
            "[10, 2, 3]\n",
            "(1, 2, 3)\n"
          ]
        }
      ]
    },
    {
      "cell_type": "markdown",
      "source": [
        "**5.Describe the key features on sets and provide examples of their use?**\n",
        "\n",
        "**key features of sets are:**\n",
        "\n",
        "1.sets are collection of hetirogenious data types.\n",
        "\n",
        "2.sets are unordered collection of elements\n",
        "\n",
        "3.While the elements themselves must be immutable (like numbers, strings, or tuples), the set can be modified (e.g., elements can be added or removed).\n",
        "\n",
        "4.Efficient Membership Testing:\n",
        "\n",
        "Sets are optimized for checking if an element is present (using in), making them faster than lists for this operation.\n",
        "\n",
        "5.sets doesnot allow the duplicates.\n",
        "\n",
        "6.set supports the set operators like union , intersection,difference,symmetric difference."
      ],
      "metadata": {
        "id": "MRuai-5By1Yt"
      }
    },
    {
      "cell_type": "code",
      "source": [
        "my_set = {1, 2, 3}\n",
        "print(my_set) #Order is not guaranteed\n",
        "\n",
        "my_set = {1, 2, 2, 3}\n",
        "print(my_set)  # Output: {1, 2, 3} no duplicates\n",
        "\n",
        "my_set = {1, 2, 3}\n",
        "my_set.add(4)  # Adds a new element, mutable\n",
        "\n",
        "my_set = {1, 2, 3}\n",
        "print(2 in my_set)  # Output: True , membership operator\n",
        "\n",
        "set1 = {1, 2, 3}\n",
        "set2 = {3, 4, 5}\n",
        "print(set1.union(set2))  # Output: {1, 2, 3, 4, 5} set operators\n"
      ],
      "metadata": {
        "colab": {
          "base_uri": "https://localhost:8080/"
        },
        "id": "AER2AckgzVX4",
        "outputId": "92370297-3315-4175-b976-8447c5e1dbc4"
      },
      "execution_count": 13,
      "outputs": [
        {
          "output_type": "stream",
          "name": "stdout",
          "text": [
            "{1, 2, 3}\n",
            "{1, 2, 3}\n",
            "True\n",
            "{1, 2, 3, 4, 5}\n"
          ]
        }
      ]
    },
    {
      "cell_type": "markdown",
      "source": [
        "**6.discuss the use cases of tuples and sets in Python programming?**\n",
        "\n",
        "Use Cases of Tuples and Sets in Python:\n",
        "### **Tuples:**\n",
        "**Immutable Data:**\n",
        "\n",
        "Tuples are useful when you want to store data that should not be modified. For example, you can store geographical coordinates or dates.\n",
        "\n",
        "**Heterogeneous Data:**\n",
        "\n",
        "Tuples can hold items of different data types, making them suitable for grouping related items.\n",
        "\n",
        "**Function Return Values:**\n",
        "\n",
        "Tuples are commonly used to return multiple values from a function.\n",
        "\n",
        "**Dictionary Keys:**\n",
        "\n",
        "Tuples, being immutable, can be used as keys in a dictionary, unlike lists.\n",
        "\n",
        "### **Sets:**\n",
        "**Unique Elements:**\n",
        "\n",
        "Sets automatically remove duplicates, making them great for holding only unique values.\n",
        "\n",
        "**Set Operations:**\n",
        "\n",
        "Sets are used for mathematical operations like union, intersection, and difference.\n",
        "\n",
        "**Membership Testing:**\n",
        "\n",
        "Sets allow fast checking if an element exists in a large collection."
      ],
      "metadata": {
        "id": "_YCVHymW3FEG"
      }
    },
    {
      "cell_type": "code",
      "source": [],
      "metadata": {
        "id": "jYNA6_xh37Jc"
      },
      "execution_count": null,
      "outputs": []
    },
    {
      "cell_type": "markdown",
      "source": [
        "**7.Describe how to add, modify, and delete items an a dictionary with examples?**\n",
        "\n",
        "**dictionary:** it is a data type which stores in the form of kay value pair (key : value )\n",
        "\n",
        "**Adding Items:**\n",
        "\n",
        "You can add a new key-value pair by assigning a value to a new key.\n",
        "\n",
        "**Modifying Items:**\n",
        "\n",
        "You can modify the value associated with an existing key by reassigning a new value to that key.\n",
        "\n",
        "**Deleting Items:**\n",
        "\n",
        "You can delete an item using the del statement or the pop() method."
      ],
      "metadata": {
        "id": "2TBPwSI1_XY5"
      }
    },
    {
      "cell_type": "code",
      "source": [
        "person = {\"name\": \"Alice\", \"age\": 25}\n",
        "person[\"city\"] = \"New York\"  # Adding new key-value pair\n",
        "print(person)  # Output: {'name': 'Alice', 'age': 25, 'city': 'New York'}\n",
        "\n",
        "person[\"age\"] = 30  # Modifying the value of an existing key\n",
        "print(person)  # Output: {'name': 'Alice', 'age': 30, 'city': 'New York'}\n",
        "\n",
        "del person[\"city\"]  # Deleting a key-value pair\n",
        "print(person)  # Output: {'name': 'Alice', 'age': 30}"
      ],
      "metadata": {
        "colab": {
          "base_uri": "https://localhost:8080/"
        },
        "id": "0Ayqz3x1_2gi",
        "outputId": "60243417-8221-49cc-8057-fbc631272229"
      },
      "execution_count": 14,
      "outputs": [
        {
          "output_type": "stream",
          "name": "stdout",
          "text": [
            "{'name': 'Alice', 'age': 25, 'city': 'New York'}\n",
            "{'name': 'Alice', 'age': 30, 'city': 'New York'}\n",
            "{'name': 'Alice', 'age': 30}\n"
          ]
        }
      ]
    },
    {
      "cell_type": "markdown",
      "source": [
        "**8. Discuss the importance of dictionary keys being immutable and provide examples?**\n",
        "\n",
        "In Python, dictionary keys must be immutable because they need to maintain a consistent and unique identity within the dictionary. Immutability ensures that the key's value cannot change after it is created, which is crucial for the dictionary to correctly retrieve values.\n",
        "\n",
        "**Importance of Immutable Keys:**\n",
        "\n",
        "**Consistency**: If a key could change, the dictionary would not be able to locate the associated value, leading to errors or data loss.\n",
        "\n",
        "**Hashability**: Immutable objects can be hashed (converted into a fixed-size string of bytes), which is essential for the dictionary’s underlying structure. This allows for efficient data retrieval.\n",
        "\n",
        "**Uniqueness**: Immutable keys ensure that each key remains unique within the dictionary, preventing unintentional overwriting of values.\n"
      ],
      "metadata": {
        "id": "EQUTNELKBAKP"
      }
    },
    {
      "cell_type": "code",
      "source": [
        "my_dict = {'name': 'Alice', 'age': 25}\n",
        "\n",
        "my_dict = {(1, 2): 'Point A', (3, 4): 'Point B'}\n",
        "print(my_dict)  # Output: {(1, 2): 'Point A', (3, 4): 'Point B'}\n",
        "\n",
        "#my_dict = {[1, 2]: 'List Key'}  # This will raise a TypeError\n",
        "\n",
        "#my_dict = {{'key': 'value'}: 'Another Dict'}  # This will also raise a TypeError\n"
      ],
      "metadata": {
        "colab": {
          "base_uri": "https://localhost:8080/"
        },
        "id": "t7gUotkKB4GT",
        "outputId": "875a43df-5558-41d1-b211-9ee6ba920959"
      },
      "execution_count": 18,
      "outputs": [
        {
          "output_type": "stream",
          "name": "stdout",
          "text": [
            "{(1, 2): 'Point A', (3, 4): 'Point B'}\n"
          ]
        }
      ]
    }
  ]
}
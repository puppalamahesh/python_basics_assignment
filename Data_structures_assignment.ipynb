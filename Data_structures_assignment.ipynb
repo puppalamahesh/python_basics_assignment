{
  "nbformat": 4,
  "nbformat_minor": 0,
  "metadata": {
    "colab": {
      "provenance": []
    },
    "kernelspec": {
      "name": "python3",
      "display_name": "Python 3"
    },
    "language_info": {
      "name": "python"
    }
  },
  "cells": [
    {
      "cell_type": "markdown",
      "source": [
        "##**Assignment : Data Structures in Python**"
      ],
      "metadata": {
        "id": "IhHXekU7H92n"
      }
    },
    {
      "cell_type": "markdown",
      "source": [
        "**1.Write a code to revese  string?**"
      ],
      "metadata": {
        "id": "NzfcrdlMIPKT"
      }
    },
    {
      "cell_type": "code",
      "execution_count": 13,
      "metadata": {
        "colab": {
          "base_uri": "https://localhost:8080/"
        },
        "id": "5pp22DCSH3Qj",
        "outputId": "1656a912-77aa-4397-faa7-d906065c5e0e"
      },
      "outputs": [
        {
          "output_type": "stream",
          "name": "stdout",
          "text": [
            "Enter a string:abcdef\n",
            "fedcba\n"
          ]
        }
      ],
      "source": [
        "s=input(\"Enter a string:\")\n",
        "print(s[::-1])"
      ]
    },
    {
      "cell_type": "markdown",
      "source": [
        "**2.Write a code to count the number of voweles in string?**"
      ],
      "metadata": {
        "id": "TwyhCTv5JCmF"
      }
    },
    {
      "cell_type": "code",
      "source": [
        "count=0\n",
        "s=input(\"Enter a string:\")\n",
        "for i in s:\n",
        "  if i in 'aeiouAEIOU':\n",
        "    count +=1\n",
        "print(count)"
      ],
      "metadata": {
        "colab": {
          "base_uri": "https://localhost:8080/"
        },
        "id": "-pwD090sJW5t",
        "outputId": "b1de42c2-e172-4224-dc9c-c31a7f8e93a0"
      },
      "execution_count": 14,
      "outputs": [
        {
          "output_type": "stream",
          "name": "stdout",
          "text": [
            "Enter a string:afhasfjka\n",
            "3\n"
          ]
        }
      ]
    },
    {
      "cell_type": "markdown",
      "source": [
        "**3.Write a code to check if a given string is a palindrome or not?**"
      ],
      "metadata": {
        "id": "HxcYSad8KZrW"
      }
    },
    {
      "cell_type": "code",
      "source": [
        "s=input(\"Enter a string:\")\n",
        "s1=s[::-1]\n",
        "if s==s1:\n",
        "  print(\"Palindrome\")\n",
        "else:\n",
        "  print(\"Not Palindrome\")\n",
        "c=len(s)\n",
        "for i in range(c//2):\n",
        "  if s[i]!=s[c-i-1]:\n",
        "    print(\"not a palindrome\")\n",
        "  else:\n",
        "    print(\"palindrome\")\n",
        "    break"
      ],
      "metadata": {
        "colab": {
          "base_uri": "https://localhost:8080/"
        },
        "id": "Nb5obc-nKFcO",
        "outputId": "348fa360-ded1-44cc-cc62-21606d382b64"
      },
      "execution_count": 15,
      "outputs": [
        {
          "output_type": "stream",
          "name": "stdout",
          "text": [
            "Enter a string:mom\n",
            "Palindrome\n",
            "palindrome\n"
          ]
        }
      ]
    },
    {
      "cell_type": "markdown",
      "source": [
        "**4.Write a code to check if two given strings are anagrams of each other?**"
      ],
      "metadata": {
        "id": "LWCXjtdqPCBU"
      }
    },
    {
      "cell_type": "code",
      "source": [
        "s1=input(\"Enter a string:\")\n",
        "s2=input(\"Enter a string:\")\n",
        "if sorted(s1)==sorted(s2):\n",
        "  print(\"Anagrams\")\n",
        "else:\n",
        "  print(\"Not Anagrams\")\n",
        "\n",
        "if len(s1)!=len(s2):\n",
        "  print(\"Not Anagrams\")\n",
        "else:\n",
        "  if sorted(s1)==sorted(s2):\n",
        "    print(\"Anagrams\")\n",
        "  else:\n",
        "    print(\"Not Anagrams\")"
      ],
      "metadata": {
        "colab": {
          "base_uri": "https://localhost:8080/"
        },
        "id": "eZ_A6eU6PcQO",
        "outputId": "ca13d508-54a6-4a64-fad2-40ae4445c5ac"
      },
      "execution_count": 16,
      "outputs": [
        {
          "output_type": "stream",
          "name": "stdout",
          "text": [
            "Enter a string:silent\n",
            "Enter a string:tslien\n",
            "Anagrams\n",
            "Anagrams\n"
          ]
        }
      ]
    },
    {
      "cell_type": "markdown",
      "source": [
        "**5.Write a code to find all occurrences of a given substring within another string?**"
      ],
      "metadata": {
        "id": "F24E8aFLTls6"
      }
    },
    {
      "cell_type": "code",
      "source": [
        "s=input(\"Enter a string:\")\n",
        "s1=input(\"Enter a substring:\")\n",
        "c=s.count(s1)\n",
        "print(c)\n",
        "print('\\n')\n",
        "'''count =0\n",
        "s=s.split()\n",
        "for i in range(len(s)):\n",
        "  if s[i]==s1:\n",
        "    count+=1\n",
        "print(count)'''"
      ],
      "metadata": {
        "colab": {
          "base_uri": "https://localhost:8080/",
          "height": 122
        },
        "id": "hPvfIGcoUEQF",
        "outputId": "79dd0b5c-bbd1-4598-c926-361c41bbddb9"
      },
      "execution_count": 22,
      "outputs": [
        {
          "output_type": "stream",
          "name": "stdout",
          "text": [
            "Enter a string:Write a code to find all occurrences of a given substring within another string\n",
            "Enter a substring:a\n",
            "4\n",
            "\n",
            "\n"
          ]
        },
        {
          "output_type": "execute_result",
          "data": {
            "text/plain": [
              "'count =0\\ns=s.split()\\nfor i in range(len(s)):\\n  if s[i]==s1:\\n    count+=1\\nprint(count)'"
            ],
            "application/vnd.google.colaboratory.intrinsic+json": {
              "type": "string"
            }
          },
          "metadata": {},
          "execution_count": 22
        }
      ]
    },
    {
      "cell_type": "markdown",
      "source": [
        "6**. Write a code to perform basic string compression using the counts of repeated characters?**"
      ],
      "metadata": {
        "id": "Zyx-FVysZXe7"
      }
    },
    {
      "cell_type": "code",
      "source": [
        "s = \"aaabbbccca\"\n",
        "compressed = \"\"\n",
        "count = 1\n",
        "for i in range(1, len(s)):\n",
        "    if s[i] == s[i - 1]:\n",
        "        count += 1\n",
        "    else:\n",
        "        compressed += s[i - 1] + str(count)\n",
        "        count = 1\n",
        "compressed += s[-1] + str(count)\n",
        "\n",
        "print(compressed)"
      ],
      "metadata": {
        "colab": {
          "base_uri": "https://localhost:8080/"
        },
        "id": "dVIxAWNkZz6C",
        "outputId": "302aef7d-e9a1-4dcb-bc6e-07ddefb59d0a"
      },
      "execution_count": 18,
      "outputs": [
        {
          "output_type": "stream",
          "name": "stdout",
          "text": [
            "a3b3c3a1\n"
          ]
        }
      ]
    },
    {
      "cell_type": "markdown",
      "source": [
        "**7.Write a code to determine if a string has all unique characters?**"
      ],
      "metadata": {
        "id": "ZZvE0NPfuo8s"
      }
    },
    {
      "cell_type": "code",
      "source": [
        "s1 = input(\"Enter a string:\")\n",
        "for i in range(len(s1)):\n",
        "    if s1.count(s1[i]) > 1:\n",
        "        print(\"Not unique\")\n",
        "        break\n",
        "else:\n",
        "    print(\"Unique\")"
      ],
      "metadata": {
        "colab": {
          "base_uri": "https://localhost:8080/"
        },
        "id": "uwysp4hzvrmN",
        "outputId": "b49e95f4-cfd8-445e-e913-fbcb19ec8294"
      },
      "execution_count": 19,
      "outputs": [
        {
          "output_type": "stream",
          "name": "stdout",
          "text": [
            "Enter a string:hello\n",
            "Not unique\n"
          ]
        }
      ]
    },
    {
      "cell_type": "markdown",
      "source": [
        "**8.Write a code to convert a given string to uppercase or lowercase**"
      ],
      "metadata": {
        "id": "eFvlJMELx2rc"
      }
    },
    {
      "cell_type": "code",
      "source": [
        "s=input(\"Enter a string:\")\n",
        "print(s.upper())\n",
        "print(s.lower())\n",
        "\n",
        "print('\\n')\n",
        "\n",
        "for char in s:#Upper\n",
        "  if 'a' <= char <= 'z':\n",
        "    print(chr(ord(char) - 32), end='')\n",
        "for char in s:#Lower case\n",
        "  if 'A' <= char <= 'Z':\n",
        "    print(chr(ord(char) + 32), end='')"
      ],
      "metadata": {
        "colab": {
          "base_uri": "https://localhost:8080/"
        },
        "id": "KxajDXeUyWes",
        "outputId": "1a4a1257-7c0a-4c86-bcde-1f8f51417dfb"
      },
      "execution_count": 20,
      "outputs": [
        {
          "output_type": "stream",
          "name": "stdout",
          "text": [
            "Enter a string:Write a code to convert a given string to uppercase or lowercase\n",
            "WRITE A CODE TO CONVERT A GIVEN STRING TO UPPERCASE OR LOWERCASE\n",
            "write a code to convert a given string to uppercase or lowercase\n",
            "\n",
            "\n",
            "RITEACODETOCONVERTAGIVENSTRINGTOUPPERCASEORLOWERCASEw"
          ]
        }
      ]
    },
    {
      "cell_type": "markdown",
      "source": [
        "**9.Write a code to count the number of words in a strings?**"
      ],
      "metadata": {
        "id": "12AyJhZ41KC-"
      }
    },
    {
      "cell_type": "code",
      "source": [
        "s=input(\"Enter a string:\")\n",
        "count=0\n",
        "word=False\n",
        "for i in s:\n",
        "  if i !=' ' and word==False:\n",
        "    count+=1\n",
        "    word=True\n",
        "  elif i==' ':\n",
        "    word=False\n",
        "print(count)\n"
      ],
      "metadata": {
        "colab": {
          "base_uri": "https://localhost:8080/"
        },
        "id": "zebmmBjf1Whk",
        "outputId": "00d1f21a-e091-4ff9-e0fe-f51ac178f020"
      },
      "execution_count": 21,
      "outputs": [
        {
          "output_type": "stream",
          "name": "stdout",
          "text": [
            "Enter a string:Write a code to count the number of words in a strings\n",
            "12\n"
          ]
        }
      ]
    },
    {
      "cell_type": "markdown",
      "source": [
        "**10.Write a code to conctinate two strings without using the a opertor?**"
      ],
      "metadata": {
        "id": "5g34tEFD4phl"
      }
    },
    {
      "cell_type": "code",
      "source": [
        "s1=input(\"Enter a string:\")\n",
        "s2=input(\"Enter a string:\")\n",
        "s3=''\n",
        "for i in s1:\n",
        "  s3+=i\n",
        "s3=s3+' '\n",
        "for j in s2:\n",
        "  s3+=j\n",
        "print(s3)"
      ],
      "metadata": {
        "colab": {
          "base_uri": "https://localhost:8080/"
        },
        "id": "rVAZdBND5zH1",
        "outputId": "869b26e3-fb7c-4406-f523-cbf73d2ed859"
      },
      "execution_count": 22,
      "outputs": [
        {
          "output_type": "stream",
          "name": "stdout",
          "text": [
            "Enter a string:hello\n",
            "Enter a string:mahesh\n",
            "hello mahesh\n"
          ]
        }
      ]
    },
    {
      "cell_type": "markdown",
      "source": [
        "**11.Write a code to remove all occurrences of a specific element from  a list.**"
      ],
      "metadata": {
        "id": "ZQZP1lREH6zQ"
      }
    },
    {
      "cell_type": "code",
      "source": [
        "l=input(\"enter the numbers : \")\n",
        "numbers_list = list(map(int, l.split()))\n",
        "print(numbers_list)\n",
        "inputnumber=int(input(\"enter the number to remove : \"))\n",
        "numbers_list=[i for i in numbers_list if i != inputnumber]\n",
        "print(numbers_list)"
      ],
      "metadata": {
        "colab": {
          "base_uri": "https://localhost:8080/"
        },
        "id": "i6hBGYGoIwI_",
        "outputId": "404030e3-8145-4dcd-eba2-f30c9c6cff32"
      },
      "execution_count": 31,
      "outputs": [
        {
          "output_type": "stream",
          "name": "stdout",
          "text": [
            "enter the numbers : 1 2 3 4 5 5 4 3 21 5 5 3 5 6 5\n",
            "[1, 2, 3, 4, 5, 5, 4, 3, 21, 5, 5, 3, 5, 6, 5]\n",
            "enter the number to remove : 5\n",
            "[1, 2, 3, 4, 4, 3, 21, 3, 6]\n"
          ]
        }
      ]
    },
    {
      "cell_type": "markdown",
      "source": [
        "**12. Implement a code to find the second largest number in a given list of integer?**"
      ],
      "metadata": {
        "id": "xklUC6wnMWcx"
      }
    },
    {
      "cell_type": "code",
      "source": [
        "l=input(\"enter the numbers : \")\n",
        "nl=list(map(int,l.split()))\n",
        "for i in nl:\n",
        "  max=i\n",
        "  for j in nl:\n",
        "    if j>max:\n",
        "      max=j\n",
        "print(max)\n",
        "nl.remove(max)\n",
        "for i in nl:\n",
        "  max=i\n",
        "  for j in nl:\n",
        "    if j>max:\n",
        "      max=j\n",
        "print(f\"second largest number in a given list is :{max}\")"
      ],
      "metadata": {
        "id": "ftpZp8_ZMsXc"
      },
      "execution_count": null,
      "outputs": []
    },
    {
      "cell_type": "markdown",
      "source": [
        "**13.Create a code to count the occurrences of each element in a list and return a dictionary with elements as\n",
        "keys and their counts as values ?**"
      ],
      "metadata": {
        "id": "Fr5iwGb1O1kY"
      }
    },
    {
      "cell_type": "code",
      "source": [
        "l=input(\"enter the numbers : \")\n",
        "l=list(map(int,l.split()))\n",
        "d={}\n",
        "for i in l:\n",
        "  if i in d:\n",
        "    d[i]+=1\n",
        "  else:\n",
        "    d[i]=1\n",
        "print(d)"
      ],
      "metadata": {
        "colab": {
          "base_uri": "https://localhost:8080/"
        },
        "id": "f58xxmo3Regp",
        "outputId": "417a19d3-0246-43e1-ea33-2ee6ce659c79"
      },
      "execution_count": 32,
      "outputs": [
        {
          "output_type": "stream",
          "name": "stdout",
          "text": [
            "enter the numbers : 1 2 3 4 5 5 4 3 21 5 5 3 5 6 5\n",
            "{1: 1, 2: 1, 3: 3, 4: 2, 5: 6, 21: 1, 6: 1}\n"
          ]
        }
      ]
    },
    {
      "cell_type": "markdown",
      "source": [
        "**Write a code to remove a list in-place without using any built-in reverse functions?**\n"
      ],
      "metadata": {
        "id": "KkrtYyCOTTMQ"
      }
    },
    {
      "cell_type": "code",
      "source": [
        "l=input(\"enter the numbers : \")\n",
        "l=list(map(int,l.split()))\n",
        "nl=[]\n",
        "for i in range(len(l)):\n",
        "  nl.append(l.pop())\n",
        "print(nl)"
      ],
      "metadata": {
        "colab": {
          "base_uri": "https://localhost:8080/"
        },
        "id": "57s1qiqWYvWK",
        "outputId": "6453f5d7-a24d-4a8c-df22-f0820d739ca6"
      },
      "execution_count": 33,
      "outputs": [
        {
          "output_type": "stream",
          "name": "stdout",
          "text": [
            "enter the numbers : 1 2 3 4 5 5 4 3 21 5 5 3 5 6 5\n",
            "[5, 6, 5, 3, 5, 5, 21, 3, 4, 5, 5, 4, 3, 2, 1]\n"
          ]
        }
      ]
    },
    {
      "cell_type": "markdown",
      "source": [
        "**15.Implement a code to find and remove duplic'ates from a list while preserving the original order of\n",
        "elements?**"
      ],
      "metadata": {
        "id": "9Ht4T12wSmZ3"
      }
    },
    {
      "cell_type": "code",
      "source": [
        "l=input(\"enter the numbers : \")\n",
        "l=list(map(int,l.split()))\n",
        "nl=[]\n",
        "for i in l:\n",
        "  if i not in nl:\n",
        "    nl.append(i)\n",
        "print(nl)\n",
        "\n",
        "print('\\n')\n",
        "\n",
        "st=set(l)\n",
        "ls=list(st)\n",
        "print(ls)"
      ],
      "metadata": {
        "colab": {
          "base_uri": "https://localhost:8080/"
        },
        "id": "VWDIBzW0cYXl",
        "outputId": "13d7ebc0-632d-4bfe-8144-349239f0bd82"
      },
      "execution_count": 34,
      "outputs": [
        {
          "output_type": "stream",
          "name": "stdout",
          "text": [
            "enter the numbers : 1 2 3 4 5 5 4 3 21 5 5 3 5 6 5\n",
            "[1, 2, 3, 4, 5, 21, 6]\n",
            "\n",
            "\n",
            "[1, 2, 3, 4, 5, 6, 21]\n"
          ]
        }
      ]
    },
    {
      "cell_type": "markdown",
      "source": [
        "**16.Create a code to check if a given list is sorted (either in ascending or descending order) or not?**"
      ],
      "metadata": {
        "id": "PGHiQq4Fe3os"
      }
    },
    {
      "cell_type": "code",
      "source": [
        "l=input(\"enter the numbers : \")\n",
        "l=list(map(int,l.split()))\n",
        "is_ascending=True\n",
        "is_decending=True\n",
        "for i in range(len(l)-1):\n",
        "  if l[i]>l[i+1]:\n",
        "    is_ascending=False\n",
        "  elif l[i]<l[i+1]:\n",
        "    is_decending=False\n",
        "if is_ascending or is_decending:\n",
        "  print(\"sorted\")\n",
        "else:\n",
        "  print(\"not sorted\")\n"
      ],
      "metadata": {
        "colab": {
          "base_uri": "https://localhost:8080/"
        },
        "id": "dd32sbuFfPD0",
        "outputId": "84399ae2-09e0-40af-9213-6635b67f7e4f"
      },
      "execution_count": 35,
      "outputs": [
        {
          "output_type": "stream",
          "name": "stdout",
          "text": [
            "enter the numbers : 1 2 3 4 5 5 4 3 21 5 5 3 5 6 5\n",
            "not sorted\n"
          ]
        }
      ]
    },
    {
      "cell_type": "markdown",
      "source": [
        "**17.Write a code to merge two sorted lists into a single sorted lists?**"
      ],
      "metadata": {
        "id": "zX5v610uqyhk"
      }
    },
    {
      "cell_type": "code",
      "source": [
        "l1=input(\"enter the numbers : \")\n",
        "l1=list(map(int,l1.split()))\n",
        "l1.sort\n",
        "l2=input(\"enter the numbers : \")\n",
        "l2=list(map(int,l2.split()))\n",
        "l2.sort\n",
        "l3=[]\n",
        "for i in range(len(l1)):\n",
        "  l3.append(l1[i])\n",
        "for j in range(len(l2)):\n",
        "  l3.append(l2[j])\n",
        "l3.sort()\n",
        "print(l3)"
      ],
      "metadata": {
        "colab": {
          "base_uri": "https://localhost:8080/"
        },
        "id": "SeGxCugvqx_9",
        "outputId": "a89032be-822a-4233-afa9-8f1852558061"
      },
      "execution_count": 36,
      "outputs": [
        {
          "output_type": "stream",
          "name": "stdout",
          "text": [
            "enter the numbers : 1 2 3 4 5 5 4 3 21 5 5 3 5 6 5\n",
            "enter the numbers : 21 5 5 3 5 6 5 7\n",
            "[1, 2, 3, 3, 3, 3, 4, 4, 5, 5, 5, 5, 5, 5, 5, 5, 5, 5, 6, 6, 7, 21, 21]\n"
          ]
        }
      ]
    },
    {
      "cell_type": "markdown",
      "source": [
        "**18. Implement a code to find the intersection of two given lists?**"
      ],
      "metadata": {
        "id": "OG_6L_95tn88"
      }
    },
    {
      "cell_type": "code",
      "source": [
        "l1=input(\"enter the numbers : \")\n",
        "l1=list(map(int,l1.split()))\n",
        "l2=input(\"enter the numbers : \")\n",
        "l2=list(map(int,l2.split()))\n",
        "l3=[]\n",
        "for i in l1:\n",
        "  for j in l2:\n",
        "    if i==j:\n",
        "      l3.append(i)\n",
        "print(l3)"
      ],
      "metadata": {
        "colab": {
          "base_uri": "https://localhost:8080/"
        },
        "id": "ARvEw2yIt1rj",
        "outputId": "dd1df23c-355a-4d65-8613-8d1ca89eb5dd"
      },
      "execution_count": 37,
      "outputs": [
        {
          "output_type": "stream",
          "name": "stdout",
          "text": [
            "enter the numbers : 1 2 3 4\n",
            "enter the numbers : 4 5 6 7\n",
            "[4]\n"
          ]
        }
      ]
    },
    {
      "cell_type": "markdown",
      "source": [
        "**19. Create a code to find the union of two lists without duplicates?**"
      ],
      "metadata": {
        "id": "5YP3jJsiu12L"
      }
    },
    {
      "cell_type": "code",
      "source": [
        "l1=input(\"enter the numbers : \")\n",
        "l1=list(map(int,l1.split()))\n",
        "l2=input(\"enter the numbers : \")\n",
        "l2=list(map(int,l2.split()))\n",
        "l1=set(l1)\n",
        "l2=set(l2)\n",
        "l3=set()\n",
        "for i in l1:\n",
        "  l3.add(i)\n",
        "for j in l2:\n",
        "  l3.add(j)\n",
        "l3=set(l3)\n",
        "l3=list(l3)\n",
        "print(l3)\n",
        "\n",
        "# we can also do using the for loop and the membershipoerators"
      ],
      "metadata": {
        "colab": {
          "base_uri": "https://localhost:8080/"
        },
        "id": "xY7NcpPvvKVa",
        "outputId": "987fea9f-6fb4-4a39-ce8d-516d4eaa579e"
      },
      "execution_count": 38,
      "outputs": [
        {
          "output_type": "stream",
          "name": "stdout",
          "text": [
            "enter the numbers : 1 2 3 4\n",
            "enter the numbers : 4 3 5 6\n",
            "[1, 2, 3, 4, 5, 6]\n"
          ]
        }
      ]
    },
    {
      "cell_type": "markdown",
      "source": [
        "**20. Write a code to shuffle a given list randomly without using any built-in shuffle functions?**"
      ],
      "metadata": {
        "id": "WFgvKZJWw-lW"
      }
    },
    {
      "cell_type": "code",
      "source": [
        "import random\n",
        "\n",
        "lst = input(\"Enter the numbers in the list: \")\n",
        "lst = list(map(int, lst.split()))\n",
        "for i in range(len(lst)):\n",
        "  rand_index = random.randint(0, len(lst) - 1)\n",
        "  lst[i], lst[rand_index] = lst[rand_index], lst[i]\n",
        "print(\"shuffled list=\",lst)"
      ],
      "metadata": {
        "colab": {
          "base_uri": "https://localhost:8080/"
        },
        "id": "UuXX1xi8x6Nd",
        "outputId": "40611d48-61cd-42c8-bfe9-84e167744cf3"
      },
      "execution_count": 39,
      "outputs": [
        {
          "output_type": "stream",
          "name": "stdout",
          "text": [
            "Enter the numbers in the list: 1 2 3 4\n",
            "shuffled list= [2, 1, 4, 3]\n"
          ]
        }
      ]
    },
    {
      "cell_type": "markdown",
      "source": [
        "**21.Write a code that takes two tuples as input and returns a new tuple containing elements that are\n",
        "common to both input tuples?**"
      ],
      "metadata": {
        "id": "NpuBWWeg1GdG"
      }
    },
    {
      "cell_type": "code",
      "source": [
        "t1=input(\"enter the numbers : \")\n",
        "t1=tuple(map(int,t1.split()))\n",
        "t2=input(\"enter the numbers : \")\n",
        "t2=tuple(map(int,t2.split()))\n",
        "t3=tuple()\n",
        "for i in t1:\n",
        "  if i in t2:\n",
        "    t3=t3+(i,) #here we can add tuples using the concatinate symbol as it is immutable\n",
        "print(t3)"
      ],
      "metadata": {
        "colab": {
          "base_uri": "https://localhost:8080/"
        },
        "id": "gLc7hbHH2dTG",
        "outputId": "a200335c-453d-4f31-f231-1a876c855755"
      },
      "execution_count": 40,
      "outputs": [
        {
          "output_type": "stream",
          "name": "stdout",
          "text": [
            "enter the numbers : 1 2 3 4\n",
            "enter the numbers : 8 9 0 7\n",
            "()\n"
          ]
        }
      ]
    },
    {
      "cell_type": "markdown",
      "source": [
        "**22. Create a code that prompts the user to enter two sets of integers separated by commas. Then, print the\n",
        "intersection of these two sets?**"
      ],
      "metadata": {
        "id": "gzBYmz5V5LkA"
      }
    },
    {
      "cell_type": "code",
      "source": [
        "s1=input(\"enter the numbers : \")\n",
        "s1=set(map(int,s1.split(',')))\n",
        "s2=input(\"enter the numbers : \")\n",
        "s2=set(map(int,s2.split(',')))\n",
        "s3=s1.intersection(s2)\n",
        "print(s3)\n",
        "\n",
        "print('\\n')\n",
        "\n",
        "s4=set()\n",
        "for i in s1:\n",
        "  if i in s2:\n",
        "    s4.add(i)\n",
        "print(s4)"
      ],
      "metadata": {
        "colab": {
          "base_uri": "https://localhost:8080/"
        },
        "id": "odCiI3Eq6wGQ",
        "outputId": "ec6c1478-810c-40f4-c256-e561ed806f21"
      },
      "execution_count": 41,
      "outputs": [
        {
          "output_type": "stream",
          "name": "stdout",
          "text": [
            "enter the numbers : 1,2,3,4\n",
            "enter the numbers : 5,6,7,8\n",
            "set()\n",
            "\n",
            "\n",
            "set()\n"
          ]
        }
      ]
    },
    {
      "cell_type": "markdown",
      "source": [
        "**23.Write a code to concatenate two tuples. The function should take two tuples as input and return a new\n",
        "tuple containing elements from both input tuples?**"
      ],
      "metadata": {
        "id": "XqtEghd5_RXV"
      }
    },
    {
      "cell_type": "code",
      "source": [
        "def concat(t1,t2):\n",
        "  t3=t1+t2\n",
        "  return t3\n",
        "tup1=input(\"enter the numbers : \")\n",
        "tup1=tuple(map(int,tup1.split()))\n",
        "tup2=input(\"enter the numbers : \")\n",
        "tup2=tuple(map(int,tup2.split()))\n",
        "tup3=concat(tup1,tup2)\n",
        "print(tup3)"
      ],
      "metadata": {
        "colab": {
          "base_uri": "https://localhost:8080/"
        },
        "id": "KLjd8qWRAG4y",
        "outputId": "c5261b75-42ae-4679-d9cc-0ba3353bcf2d"
      },
      "execution_count": 42,
      "outputs": [
        {
          "output_type": "stream",
          "name": "stdout",
          "text": [
            "enter the numbers : 1 2 3 4\n",
            "enter the numbers : 6 7 8 9\n",
            "(1, 2, 3, 4, 6, 7, 8, 9)\n"
          ]
        }
      ]
    },
    {
      "cell_type": "markdown",
      "source": [
        "**24.Develop a code that prompts the user to input two sets of strings. Then print the elements that are\n",
        "present in the first set but not in the second set?**"
      ],
      "metadata": {
        "id": "FgG0F8JvB1Rx"
      }
    },
    {
      "cell_type": "code",
      "source": [
        "s1=input(\"enter the strings : \")\n",
        "s1=set(map(str,s1.split()))\n",
        "s2=input(\"enter the strings : \")\n",
        "s2=set(map(str,s2.split()))\n",
        "s3=s1.difference(s2) # here we can also write s3 = s1-s2\n",
        "print(s3)"
      ],
      "metadata": {
        "colab": {
          "base_uri": "https://localhost:8080/"
        },
        "id": "BNFd45mAC9Gi",
        "outputId": "5e6d05c4-da7a-4697-bc40-3f049e0b2bba"
      },
      "execution_count": 2,
      "outputs": [
        {
          "output_type": "stream",
          "name": "stdout",
          "text": [
            "enter the strings : are present in the first\n",
            "enter the strings : are\n",
            "{'present', 'in', 'first', 'the'}\n"
          ]
        }
      ]
    },
    {
      "cell_type": "markdown",
      "source": [
        "**25.Create a code that takes a tuple and two integers as input. the fuction should return a new tuple containing elements from the original tuple within the specified range of indices?**"
      ],
      "metadata": {
        "id": "RGBxLM-_OBQF"
      }
    },
    {
      "cell_type": "code",
      "source": [
        "#function definatiom\n",
        "def slice_tuple(t, start, end):\n",
        "    return t[start:end+1]\n",
        "\n",
        "#user in put\n",
        "t1=input(\"enter the numbers : \")\n",
        "t1=tuple(map(int,t1.split()))\n",
        "start=int(input(\"enter the start index : \"))\n",
        "end=int(input(\"enter the end index : \"))\n",
        "\n",
        "#fuction call\n",
        "print(slice_tuple(t1,start,end))"
      ],
      "metadata": {
        "colab": {
          "base_uri": "https://localhost:8080/"
        },
        "id": "vbrGqUYzOkNB",
        "outputId": "6729a402-00f3-4fff-d1bb-38960a108d73"
      },
      "execution_count": 4,
      "outputs": [
        {
          "output_type": "stream",
          "name": "stdout",
          "text": [
            "enter the numbers : 1 2 3 4 5\n",
            "enter the start index : 2\n",
            "enter the end index : 4\n",
            "(3, 4, 5)\n"
          ]
        }
      ]
    },
    {
      "cell_type": "markdown",
      "source": [
        "**26. Write a code that prompts the user to input two sets of characters. Then print the union of these two sets?**"
      ],
      "metadata": {
        "id": "sirkjvOdTAO-"
      }
    },
    {
      "cell_type": "code",
      "source": [
        "s1=input(\"enter the characters : \")\n",
        "s1=set(s1)\n",
        "s2=input(\"enter the characters : \")\n",
        "s2=set(s2)\n",
        "s3=s1.union(s2) # s3= s1 | s2\n",
        "print(s3)\n",
        "\n",
        "\n"
      ],
      "metadata": {
        "id": "6CkgqiZZTpbE",
        "colab": {
          "base_uri": "https://localhost:8080/"
        },
        "outputId": "35ef10a7-4336-4cec-c507-b10883fb10fc"
      },
      "execution_count": 5,
      "outputs": [
        {
          "output_type": "stream",
          "name": "stdout",
          "text": [
            "enter the characters : a b c d e\n",
            "enter the characters : e f g h i j\n",
            "{'d', ' ', 'i', 'j', 'f', 'e', 'c', 'b', 'g', 'a', 'h'}\n"
          ]
        }
      ]
    },
    {
      "cell_type": "markdown",
      "source": [
        "**27. Develop a code that takes a tuple of intigers as input. The function should return the maximum and\n",
        "minimum values from the tuple using tuple unpacking?**"
      ],
      "metadata": {
        "id": "bcPDXR6IVEdc"
      }
    },
    {
      "cell_type": "code",
      "source": [
        "def find_min_max(t):\n",
        "  min_value=min(t)\n",
        "  max_value=max(t)\n",
        "  return min_value,max_value\n",
        "\n",
        "t=tuple(map(int,input(\"enter the numbers : \").split()))\n",
        "mini_value,maxi_value=find_min_max(t)\n",
        "print(f\"minimum value is {mini_value} maximum value is {maxi_value}\")\n"
      ],
      "metadata": {
        "colab": {
          "base_uri": "https://localhost:8080/"
        },
        "id": "Y8EBllQeVnww",
        "outputId": "41b416c9-b430-4f08-f61f-6d802304f4ac"
      },
      "execution_count": 6,
      "outputs": [
        {
          "output_type": "stream",
          "name": "stdout",
          "text": [
            "enter the numbers : 1 2 3 4 4 5 6 7 8\n",
            "minimum value is 1 maximum value is 8\n"
          ]
        }
      ]
    },
    {
      "cell_type": "markdown",
      "source": [
        "**28.Create a code that defines two sets of intigers. Then print the union intersection and difference of these\n",
        "two sets?**"
      ],
      "metadata": {
        "id": "Wyqbp9HiZ31-"
      }
    },
    {
      "cell_type": "code",
      "source": [
        "s1=set(map(int,input(\"enter the numbers : \").split()))\n",
        "s2=set(map(int,input(\"enter the numbers : \").split()))\n",
        "#union\n",
        "s3=set()\n",
        "for i in s1:\n",
        "  s3.add(i)\n",
        "for j in s2:\n",
        "  s3.add(j)\n",
        "print(f\"union is {s3}\")\n",
        "\n",
        "s4=s1.union(s2)\n",
        "print(f\"union is {s4}\")\n",
        "\n",
        "#intersection\n",
        "s5=s1.intersection(s2)\n",
        "print(f\"intersection is {s5}\")\n",
        "\n",
        "s0=set()\n",
        "for i in s1:\n",
        "  if i in s2:\n",
        "    s0.add(i)\n",
        "print(f\"intersection is {s0}\")\n",
        "#difference\n",
        "s6=s1.difference(s2)\n",
        "print(f\"difference is {s6}\")# s6=s1-s2"
      ],
      "metadata": {
        "colab": {
          "base_uri": "https://localhost:8080/"
        },
        "id": "xXoYwcotaib8",
        "outputId": "cf75f012-eb5f-4c1d-e92b-a38c1c0b5529"
      },
      "execution_count": 7,
      "outputs": [
        {
          "output_type": "stream",
          "name": "stdout",
          "text": [
            "enter the numbers : 1 2 3 4 5 6 3 4 \n",
            "enter the numbers : 4 5 6 7 8 9 0\n",
            "union is {0, 1, 2, 3, 4, 5, 6, 7, 8, 9}\n",
            "union is {0, 1, 2, 3, 4, 5, 6, 7, 8, 9}\n",
            "intersection is {4, 5, 6}\n",
            "intersection is {4, 5, 6}\n",
            "difference is {1, 2, 3}\n"
          ]
        }
      ]
    },
    {
      "cell_type": "markdown",
      "source": [
        "**29.Write a code that takes a tuple and an element as input. The function should return the count of\n",
        "occurrences of the given element in the tuple?**"
      ],
      "metadata": {
        "id": "44N4VBbkfxVv"
      }
    },
    {
      "cell_type": "code",
      "source": [
        "\n",
        "def occurances(t,element):\n",
        "  count=0\n",
        "  for i in t:\n",
        "    if i==element:\n",
        "      count+=1\n",
        "  return count\n",
        "\n",
        "t=tuple(map(int,input(\"enter the elements : \").split()))\n",
        "element=int(input(\"enter the element : \"))\n",
        "count=occurances(t,element)\n",
        "print(f\"count of {element} is {count}\")"
      ],
      "metadata": {
        "colab": {
          "base_uri": "https://localhost:8080/"
        },
        "id": "ELhQSD8CgTvR",
        "outputId": "25ff4051-f133-4b71-aa24-7cff85872375"
      },
      "execution_count": 11,
      "outputs": [
        {
          "output_type": "stream",
          "name": "stdout",
          "text": [
            "enter the elements : 1 2 3 4 5 6 7 1 2 3 3 2 1 2\n",
            "enter the element : 2\n",
            "count of 2 is 4\n"
          ]
        }
      ]
    },
    {
      "cell_type": "markdown",
      "source": [
        " **30.Develop a code that prompts the user to input two sets of strings. Then print the symmetric difference of\n",
        "these two sets?**\n",
        "\n",
        "**Note:** Symmetric difference means the elements that are unique to each set, excluding the common elements."
      ],
      "metadata": {
        "id": "5WD9FnDLhV81"
      }
    },
    {
      "cell_type": "code",
      "source": [
        "s1=input(\"enter the strings : \")\n",
        "s1=set(map(str,s1.split()))\n",
        "s2=input(\"enter the strings : \")\n",
        "s2=set(map(str,s2.split()))\n",
        "s3=set()\n",
        "for i in s1:\n",
        "  if i not in s2:\n",
        "    s3.add(i)\n",
        "for j in s2:\n",
        "  if j not in s1:\n",
        "    s3.add(j)\n",
        "print(s3)\n",
        "\n",
        "print('\\n')\n",
        "\n",
        "s4=s1.symmetric_difference(s2)\n",
        "print(s4)\n",
        "\n",
        "print(\"\\n\")\n",
        "\n",
        "s5=s1^s2\n",
        "print(s5)"
      ],
      "metadata": {
        "colab": {
          "base_uri": "https://localhost:8080/"
        },
        "id": "XrVg8hQOhrfQ",
        "outputId": "47b08dde-ca2c-4101-e76c-c88c0c4b319c"
      },
      "execution_count": 12,
      "outputs": [
        {
          "output_type": "stream",
          "name": "stdout",
          "text": [
            "enter the strings : hello mahesh how are you are you okay you are strong\n",
            "enter the strings : are you there how are you\n",
            "{'hello', 'strong', 'there', 'okay', 'mahesh'}\n",
            "\n",
            "\n",
            "{'hello', 'strong', 'there', 'okay', 'mahesh'}\n",
            "\n",
            "\n",
            "{'hello', 'strong', 'there', 'okay', 'mahesh'}\n"
          ]
        }
      ]
    },
    {
      "cell_type": "markdown",
      "source": [
        "**31.Write a code that takes a list of words as input and returns a dictionary where the keys are unique words\n",
        "and the values are the frequencies of those words in the input list?**"
      ],
      "metadata": {
        "id": "s_EH062rldnL"
      }
    },
    {
      "cell_type": "code",
      "source": [
        "l=list(map(str,input(\"enter the words : \").split()))\n",
        "d={}\n",
        "for i in l:\n",
        "  count=0\n",
        "  for j in l:\n",
        "    if i==j:\n",
        "      count+=1\n",
        "      d[i]=count\n",
        "print(d)"
      ],
      "metadata": {
        "colab": {
          "base_uri": "https://localhost:8080/"
        },
        "id": "aSIizOCdmG8Y",
        "outputId": "e60e02b1-9035-4d52-f4f1-9f078462166e"
      },
      "execution_count": 13,
      "outputs": [
        {
          "output_type": "stream",
          "name": "stdout",
          "text": [
            "enter the words : a b c d e f g h i g\n",
            "{'a': 1, 'b': 1, 'c': 1, 'd': 1, 'e': 1, 'f': 1, 'g': 2, 'h': 1, 'i': 1}\n"
          ]
        }
      ]
    },
    {
      "cell_type": "markdown",
      "source": [
        "**32.Write a code that takes two dictionaries as input and merges them into a single dictionary. If there are\n",
        "common keys the values should be added together?**"
      ],
      "metadata": {
        "id": "NYfCSsyk2IaZ"
      }
    },
    {
      "cell_type": "code",
      "source": [
        "#dict1\n",
        "ip=input(\"enter the numbers : \")\n",
        "ip=ip.split()\n",
        "d1={}\n",
        "for i in range(0,len(ip),2):\n",
        "  key=ip[i]\n",
        "  value=ip[i+1]\n",
        "  value=ip[i+1]\n",
        "  if 'a' <= value <= 'z':\n",
        "    value=ord(value)\n",
        "  elif 'A' <= value <= 'Z':\n",
        "    value=ord(value)\n",
        "  else:\n",
        "    value=int(value)\n",
        "  if key in d1:\n",
        "    d1[key]+=value\n",
        "  else:\n",
        "    d1[key]=value\n",
        "print(d1,\"\\n\\n\")\n",
        "#dict2\n",
        "ip2=input(\"enter the numbers : \")\n",
        "ip2=ip2.split()\n",
        "d2={}\n",
        "for i in range(0,len(ip2),2):\n",
        "  key=ip2[i]\n",
        "  value=ip2[i+1]\n",
        "  if 'a' <= value <= 'z':\n",
        "    value=ord(value)\n",
        "  elif 'A' <= value <= 'Z':\n",
        "    value=ord(value)\n",
        "  else:\n",
        "    value=int(value)\n",
        "\n",
        "  if key in d2:\n",
        "    d2[key]+=value\n",
        "  else:\n",
        "    d2[key]=value\n",
        "print(d2,\"\\n\\n\")\n",
        "\n",
        "#merged dictonary\n",
        "merged_dict={}\n",
        "for key,value in d1.items():\n",
        "  if key in d2:\n",
        "    merged_dict[key]=value+d2[key]\n",
        "  else:\n",
        "    merged_dict[key]=value\n",
        "for key,value in d2.items():\n",
        "  if key not in merged_dict:\n",
        "    merged_dict[key]=value\n",
        "print(merged_dict)\n"
      ],
      "metadata": {
        "colab": {
          "base_uri": "https://localhost:8080/"
        },
        "id": "6ZNz-LGJ2udQ",
        "outputId": "af8d2d95-6ccb-4d3b-b6fa-5952d697f291"
      },
      "execution_count": 14,
      "outputs": [
        {
          "output_type": "stream",
          "name": "stdout",
          "text": [
            "enter the numbers : a b c d a b c d a b c d\n",
            "{'a': 294, 'c': 300} \n",
            "\n",
            "\n",
            "enter the numbers : e f g h e f g h e f g h\n",
            "{'e': 306, 'g': 312} \n",
            "\n",
            "\n",
            "{'a': 294, 'c': 300, 'e': 306, 'g': 312}\n"
          ]
        }
      ]
    },
    {
      "cell_type": "markdown",
      "source": [
        "**33.Write a code to acess a value in a nested dictionary. The function should take the dictionary and a list of\n",
        "keys as input and return the corresponding value. If any of the keys do not exist in the dictionary the function should return None?**"
      ],
      "metadata": {
        "id": "YVGtewPgHmSR"
      }
    },
    {
      "cell_type": "code",
      "source": [
        "def dictn(d,l):\n",
        "  for key in k:\n",
        "    if key in d:\n",
        "      d = d[key]\n",
        "    else:\n",
        "      return None\n",
        "  return d\n",
        "nst_dict={\n",
        "    'a':{\n",
        "        'b':{\n",
        "            'c':'d'\n",
        "        }\n",
        "    },\n",
        "    'e':{\n",
        "        'f':{\n",
        "            'g':'h'\n",
        "        }\n",
        "    }\n",
        "\n",
        "    }\n",
        "k=list(map(str,input(\"enter the keys : \").split()))\n",
        "print(\"Values\",dictn(nst_dict,k))"
      ],
      "metadata": {
        "id": "xFzGmAcEI9fp",
        "colab": {
          "base_uri": "https://localhost:8080/"
        },
        "outputId": "472ba9b2-9be7-44f9-e987-be2ed3e6decb"
      },
      "execution_count": 17,
      "outputs": [
        {
          "output_type": "stream",
          "name": "stdout",
          "text": [
            "enter the keys : a b c\n",
            "Values d\n"
          ]
        }
      ]
    },
    {
      "cell_type": "markdown",
      "source": [
        "**34.Write a code that takes a dictionary as input and returns a sorted version of it based on the values. You\n",
        "can choose whether to sort in ascending or descending order?**"
      ],
      "metadata": {
        "id": "VBI_T4GlGOWh"
      }
    },
    {
      "cell_type": "code",
      "source": [
        "ip=input(\"enter the numbers : \")\n",
        "ip=ip.split()\n",
        "d={}\n",
        "for i in range(0,len(ip),2):\n",
        "  key=ip[i]\n",
        "  value=ip[i+1]\n",
        "  if 'a' <= value <= 'z':\n",
        "    value=ord(value)\n",
        "  elif 'A' <= value <= 'Z':\n",
        "    value=ord(value)\n",
        "  else:\n",
        "    value=int(value)\n",
        "  if key in d:\n",
        "    d[key]+=value\n",
        "  else:\n",
        "    d[key]=value\n",
        "print(d,\"\\n\\n\")\n",
        "sorted_dict=dict(sorted(d.items(),key=lambda x:x[1]))\n",
        "print(sorted_dict)"
      ],
      "metadata": {
        "colab": {
          "base_uri": "https://localhost:8080/"
        },
        "id": "bcisWvCfGs3T",
        "outputId": "343610dd-e4b5-4ece-f4e7-a3533c5ec177"
      },
      "execution_count": 18,
      "outputs": [
        {
          "output_type": "stream",
          "name": "stdout",
          "text": [
            "enter the numbers : a b c d\n",
            "{'a': 98, 'c': 100} \n",
            "\n",
            "\n",
            "{'a': 98, 'c': 100}\n"
          ]
        }
      ]
    },
    {
      "cell_type": "markdown",
      "source": [
        "**35.Write a code that inverts a dictionary  swapping keys and values. Ensure that the inverted dictionary\n",
        "correctly handles cases where multiple keys have the same value be storing the keys as a list in the\n",
        "inverted dictionary**\n"
      ],
      "metadata": {
        "id": "fiO_qPzrNRcS"
      }
    },
    {
      "cell_type": "code",
      "source": [
        "in_verteddict={}\n",
        "original_dictonary={}\n",
        "original_dict=input(\"enter the numbers : \")\n",
        "original_dict=original_dict.split()\n",
        "for i in range(0,len(original_dict),2):\n",
        "  key=original_dict[i]\n",
        "  value=original_dict[i+1]\n",
        "  if 'a' <= value <= 'z':\n",
        "    value=ord(value)\n",
        "  elif 'A' <= value <= 'Z':\n",
        "    value=ord(value)\n",
        "  else:\n",
        "    value=int(value)\n",
        "\n",
        "  original_dictonary[key]=value\n",
        "\n",
        "for key,value in original_dictonary.items():\n",
        "  if value in in_verteddict:\n",
        "    in_verteddict[value].append(key)\n",
        "  else:\n",
        "    in_verteddict[value]=[key]\n",
        "print(in_verteddict)\n"
      ],
      "metadata": {
        "colab": {
          "base_uri": "https://localhost:8080/"
        },
        "id": "KuLBWAEJ-zf9",
        "outputId": "67519b78-4f08-4592-9a71-f8b0549abeac"
      },
      "execution_count": 20,
      "outputs": [
        {
          "output_type": "stream",
          "name": "stdout",
          "text": [
            "enter the numbers : a b b a d a b a c a d b b d\n",
            "{98: ['a', 'd'], 100: ['b'], 97: ['c']}\n"
          ]
        }
      ]
    }
  ]
}
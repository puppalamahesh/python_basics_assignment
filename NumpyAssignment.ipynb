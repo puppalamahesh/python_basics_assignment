{
  "nbformat": 4,
  "nbformat_minor": 0,
  "metadata": {
    "colab": {
      "provenance": []
    },
    "kernelspec": {
      "name": "python3",
      "display_name": "Python 3"
    },
    "language_info": {
      "name": "python"
    }
  },
  "cells": [
    {
      "cell_type": "markdown",
      "source": [
        "## **Numpy Assignment :**\n",
        "\n",
        " **1.Explain the purpose and advantages of NumPy in scientific computing and data analysis. How does it\n",
        "enhance Python's capabilities for numerical operation?**\n",
        "\n",
        "\n",
        "**NumPy is a powerful Python library for numerical computing, widely used in scientific computing and data analysis due to its efficiency and functionality.** At its core, NumPy provides support for large, multi-dimensional arrays and matrices, along with a vast collection of mathematical functions to operate on these arrays.\n",
        "\n",
        "**Purpose and Advantages:**\n",
        "\n",
        "**Efficient Data Storage and Manipulation:** NumPy arrays (ndarrays) are more memory-efficient than Python lists, allowing for faster data processing, especially with large datasets.\n",
        "\n",
        "**Mathematical Operations:** It enables fast and efficient mathematical operations on arrays, including element-wise operations and complex linear algebra, which are foundational in data analysis and scientific computing.\n",
        "\n",
        "**Broad Functionality:** With functions for random number generation, statistical calculations, Fourier transforms, and more, NumPy is highly versatile for both basic and advanced mathematical tasks.\n",
        "\n",
        "**Interoperability:** NumPy seamlessly integrates with other libraries, like Pandas, Matplotlib, and SciPy, enhancing Python's data manipulation and visualization capabilities, making it the backbone of the data science ecosystem.\n",
        "\n",
        "**Vectorization:** Through vectorization (performing operations on entire arrays rather than element-by-element), NumPy enables faster, more readable code by minimizing the need for explicit loops, which is essential for performance optimization."
      ],
      "metadata": {
        "id": "dG8CXu02fA4X"
      }
    },
    {
      "cell_type": "markdown",
      "source": [
        "**2.Compare and contrast np.mean() and np.average() functions in NumPy. When would you use one over the\n",
        "other?**"
      ],
      "metadata": {
        "id": "FLeF19YBi-t9"
      }
    },
    {
      "cell_type": "markdown",
      "source": [
        "**In NumPy, np.mean() and np.average() both compute the average of array elements, but they differ in functionality:\n",
        "\n",
        "**np.mean() calculates the simple arithmetic mean of an array, treating all elements equally.\n",
        "np.average() allows weighting of elements through a weights parameter. This means you can calculate a weighted average, where some elements contribute more than others to the final result.**\n",
        "\n",
        "**When to Use Each:**\n",
        "\n",
        "Use np.mean() when you need a straightforward average with all elements equally contributing.\n",
        "Use np.average() when elements have varying importance (e.g., calculating a grade with different weights for exams and assignments).\n",
        "\n",
        "**Example: For an array [1, 2, 3], np.mean() and np.average() both give 2.0 without weights. But with weights [1, 2, 1], np.average() would yield a weighted average of 2.25.**"
      ],
      "metadata": {
        "id": "uT1I7MqOlS3Y"
      }
    },
    {
      "cell_type": "markdown",
      "source": [
        "**3. Describe the methods for reversing a NumPy array along different axes. Provide examples for 1D and 2D\n",
        "arrays.**\n",
        "\n",
        "\n",
        "\n",
        "**In NumPy, you can reverse an array along different axes using slicing and the np.flip() function. Here’s how these methods work with both 1D and 2D arrays:**\n",
        "\n",
        "**1. Using Slicing ([::-1])**\n",
        "\n",
        "1D Array: Reverse all elements with slicing."
      ],
      "metadata": {
        "id": "8fwU8l1R1TO-"
      }
    },
    {
      "cell_type": "code",
      "execution_count": 1,
      "metadata": {
        "id": "0oOeUkIwe7kt",
        "colab": {
          "base_uri": "https://localhost:8080/"
        },
        "outputId": "6d8c9171-a1ab-401a-bb7f-456f47826287"
      },
      "outputs": [
        {
          "output_type": "stream",
          "name": "stdout",
          "text": [
            "[4 3 2 1]\n"
          ]
        }
      ],
      "source": [
        "import numpy as np\n",
        "arr_1d = np.array([1, 2, 3, 4])\n",
        "reversed_1d = arr_1d[::-1]\n",
        "print(reversed_1d)  # Output: [4, 3, 2, 1]\n"
      ]
    },
    {
      "cell_type": "markdown",
      "source": [
        "**2D Array: Reverse along rows or columns.**"
      ],
      "metadata": {
        "id": "9dBGNl1U1xVx"
      }
    },
    {
      "cell_type": "code",
      "source": [
        "arr_2d = np.array([[1, 2], [3, 4]])\n",
        "reversed_rows = arr_2d[::-1]          # Reverse row order\n",
        "reversed_columns = arr_2d[:, ::-1]    # Reverse column order\n",
        "print(reversed_rows)     # Output: [[3, 4], [1, 2]]\n",
        "print(reversed_columns)  # Output: [[2, 1], [4, 3]]"
      ],
      "metadata": {
        "colab": {
          "base_uri": "https://localhost:8080/"
        },
        "id": "1fCrOkte15t6",
        "outputId": "5fe8aab1-3939-4e2d-f8fe-9e9b145651ed"
      },
      "execution_count": 2,
      "outputs": [
        {
          "output_type": "stream",
          "name": "stdout",
          "text": [
            "[[3 4]\n",
            " [1 2]]\n",
            "[[2 1]\n",
            " [4 3]]\n"
          ]
        }
      ]
    },
    {
      "cell_type": "markdown",
      "source": [
        "**2. Using np.flip()**\n",
        "\n",
        "Slicing is quick and commonly used, but np.flip() adds clarity and flexibility for multidimensional arrays."
      ],
      "metadata": {
        "id": "ieAAb8jE2VyR"
      }
    },
    {
      "cell_type": "code",
      "source": [
        "reversed_1d_flip = np.flip(arr_1d)\n",
        "print(reversed_1d_flip)  # Output: [4, 3, 2, 1]\n",
        "\n",
        "reversed_rows_flip = np.flip(arr_2d, axis=0)  # Reverse row order\n",
        "reversed_columns_flip = np.flip(arr_2d, axis=1)  # Reverse column order\n",
        "print(reversed_rows_flip)   # Output: [[3, 4], [1, 2]]\n",
        "print(reversed_columns_flip) # Output: [[2, 1], [4, 3]]\n"
      ],
      "metadata": {
        "colab": {
          "base_uri": "https://localhost:8080/"
        },
        "id": "JV5dtOnl2U5A",
        "outputId": "ed00ee66-1922-4516-e5aa-9931d04a488c"
      },
      "execution_count": 3,
      "outputs": [
        {
          "output_type": "stream",
          "name": "stdout",
          "text": [
            "[4 3 2 1]\n",
            "[[3 4]\n",
            " [1 2]]\n",
            "[[2 1]\n",
            " [4 3]]\n"
          ]
        }
      ]
    },
    {
      "cell_type": "markdown",
      "source": [
        "**4. How can you determine the data type of elements in a NumPy array? Discuss the importance of data types\n",
        "in memory management and performance.**\n",
        "\n",
        "**import numpy as np\n",
        "arr = np.array([1, 2, 3])\n",
        "print(arr.dtype)  # Output: dtype('int64')**"
      ],
      "metadata": {
        "id": "0DQwbR2h2n_i"
      }
    },
    {
      "cell_type": "code",
      "source": [
        "import numpy as np\n",
        "arr = np.array([1, 2, 3])\n",
        "print(arr.dtype)  # Output: dtype('int64')\n"
      ],
      "metadata": {
        "colab": {
          "base_uri": "https://localhost:8080/"
        },
        "id": "9HqvihaJ3mdF",
        "outputId": "2dc43849-8ebe-4d61-ea56-6d719e656971"
      },
      "execution_count": 4,
      "outputs": [
        {
          "output_type": "stream",
          "name": "stdout",
          "text": [
            "int64\n"
          ]
        }
      ]
    },
    {
      "cell_type": "markdown",
      "source": [
        "**Importance of Data Types:**\n",
        "\n",
        "**Memory Management:** Data types define how much memory each element consumes (e.g., int32 uses 4 bytes, float64 uses 8 bytes). Choosing the correct type helps minimize memory usage, especially with large datasets.\n",
        "\n",
        "**Performance:** Operations on smaller data types are faster because they use less memory and processing power. For instance, using int16 instead of int64 when possible can speed up calculations.\n",
        "\n",
        "In short, selecting appropriate data types in NumPy ensures efficient memory use and faster computations."
      ],
      "metadata": {
        "id": "jSi6BjFH3oSW"
      }
    },
    {
      "cell_type": "markdown",
      "source": [
        "**5. Define ndarrays in NumPy and explain their key features. How do they differ from standard Python lists?**\n",
        "\n",
        "\n",
        "In NumPy, an ndarray (N-dimensional array) is a powerful data structure for handling large, multi-dimensional data collections. It is the core of NumPy and allows for efficient storage and manipulation of arrays.\n",
        "\n",
        "**Key Features of ndarrays:**\n",
        "Fixed Size and Homogeneous Data: Elements in an ndarray are of a single data type, making memory usage more efficient.\n",
        "Supports Vectorized Operations: Enables fast element-wise operations without loops, allowing calculations on entire arrays at once.\n",
        "\n",
        "**N-dimensional:** Easily supports multi-dimensional data (e.g., 1D, 2D, or more), which is essential for complex datasets in scientific computing.\n",
        "\n",
        "**Efficient Memory Use**: Stores data in contiguous blocks, leading to faster data access and processing.\n",
        "\n",
        "**Difference from Python Lists:**\n",
        "\n",
        "**Homogeneity:** Lists can store different data types, while ndarrays store only one, optimizing speed.\n",
        "\n",
        "**Performance:** Ndarrays are faster and more memory-efficient than lists, especially with large data, due to optimized C-based implementations.\n",
        "In short, ndarrays provide structured, fast, and efficient array handling, ideal for scientific computing."
      ],
      "metadata": {
        "id": "zv_r-BAU31kl"
      }
    },
    {
      "cell_type": "markdown",
      "source": [
        "**6. Analyze the performance benefits of NumPy arrays over Python lists for large-scale numerical operations?**\n",
        "\n",
        "\n",
        "**NumPy arrays outperform Python lists in large-scale numerical operations due to:**\n",
        "\n",
        "\n",
        "**Memory Efficiency: **NumPy arrays use fixed, contiguous memory blocks, unlike Python lists, which store elements as objects with extra metadata. This reduces memory overhead and enables efficient storage.\n",
        "\n",
        "**Vectorized Operations**: NumPy allows operations on entire arrays at once (vectorization), eliminating slow Python loops. This boosts performance as operations are implemented in low-level C code, optimized for speed.\n",
        "\n",
        "**Type Consistency:** NumPy arrays store elements of the same type, making calculations faster than with lists, which can store mixed types.\n",
        "\n",
        "In summary, NumPy’s memory efficiency and vectorization make it ideal for fast, large-scale computations."
      ],
      "metadata": {
        "id": "gsy5myyT41hy"
      }
    },
    {
      "cell_type": "markdown",
      "source": [
        "**7. Compare vstack() and hstack() functions in NumPy. Provide examples demonstrating their usage and\n",
        "output?**\n",
        "\n",
        "\n",
        "In NumPy, vstack() and hstack() are used to stack arrays vertically and horizontally, respectively.\n",
        "\n",
        "**1. np.vstack()** - Vertical Stacking\n",
        "Stacks arrays row-wise (one on top of the other).\n",
        "The arrays must have the same number of columns."
      ],
      "metadata": {
        "id": "0VGccPLY6kbO"
      }
    },
    {
      "cell_type": "code",
      "source": [
        "import numpy as np\n",
        "arr1 = np.array([1, 2])\n",
        "arr2 = np.array([3, 4])\n",
        "result = np.vstack((arr1, arr2))\n",
        "print(result)\n",
        "# Output:\n",
        "# [[1 2]\n",
        "#  [3 4]]\n"
      ],
      "metadata": {
        "colab": {
          "base_uri": "https://localhost:8080/"
        },
        "id": "_dOREZlE6pV_",
        "outputId": "502e3621-0d36-4921-d1fc-db595f693d99"
      },
      "execution_count": 5,
      "outputs": [
        {
          "output_type": "stream",
          "name": "stdout",
          "text": [
            "[[1 2]\n",
            " [3 4]]\n"
          ]
        }
      ]
    },
    {
      "cell_type": "markdown",
      "source": [
        "**2. np.hstack() - Horizontal Stacking\n",
        "Stacks arrays column-wise (side-by-side).\n",
        "The arrays must have the same number of rows.?**\n",
        "\n",
        "Summary: Use vstack() to add rows and hstack() to add columns, ensuring compatibility in shape (either rows or columns)."
      ],
      "metadata": {
        "id": "82nuAkzp6v3z"
      }
    },
    {
      "cell_type": "code",
      "source": [
        "arr3 = np.array([[1], [2]])\n",
        "arr4 = np.array([[3], [4]])\n",
        "result = np.hstack((arr3, arr4))\n",
        "print(result)\n",
        "# Output:\n",
        "# [[1 3]\n",
        "#  [2 4]]"
      ],
      "metadata": {
        "colab": {
          "base_uri": "https://localhost:8080/"
        },
        "id": "nsz1n50h40rL",
        "outputId": "c00b453c-b343-4412-e6cf-c8b75bc08354"
      },
      "execution_count": 6,
      "outputs": [
        {
          "output_type": "stream",
          "name": "stdout",
          "text": [
            "[[1 3]\n",
            " [2 4]]\n"
          ]
        }
      ]
    },
    {
      "cell_type": "markdown",
      "source": [
        "**8. Explain the differences between fliplr() and flipud() methods in NumPy, including their effects on various\n",
        "array dimensionst?**\n",
        "\n",
        "In NumPy, fliplr() and flipud() are used to flip arrays along different axes:\n",
        "\n",
        "**1. np.fliplr()** - Flip Left to Right\n",
        "Flips an array horizontally (left to right).\n",
        "Applicable only to 2D or higher-dimensional arrays.\n"
      ],
      "metadata": {
        "id": "5KUXW-SS7N8w"
      }
    },
    {
      "cell_type": "code",
      "source": [
        "import numpy as np\n",
        "arr = np.array([[1, 2], [3, 4]])\n",
        "flipped_lr = np.fliplr(arr)\n",
        "print(flipped_lr)\n",
        "# Output:\n",
        "# [[2 1]\n",
        "#  [4 3]]\n"
      ],
      "metadata": {
        "colab": {
          "base_uri": "https://localhost:8080/"
        },
        "id": "Oc3uOw907lPB",
        "outputId": "31281e04-d5bd-47c3-e83b-546791a347ea"
      },
      "execution_count": 7,
      "outputs": [
        {
          "output_type": "stream",
          "name": "stdout",
          "text": [
            "[[2 1]\n",
            " [4 3]]\n"
          ]
        }
      ]
    },
    {
      "cell_type": "markdown",
      "source": [
        "**2. np.flipud()** - Flip Up to Down\n",
        "\n",
        "Flips an array vertically (up to down).\n",
        "Works on any array with 2 or more dimensions.\n",
        "\n",
        "Summary: Use fliplr() to flip horizontally and flipud() to flip vertically. Both are useful for reorganizing data in matrices and images.\n",
        "\n",
        "\n",
        "\n",
        "\n",
        "\n",
        "\n"
      ],
      "metadata": {
        "id": "tGqerTIu7uYe"
      }
    },
    {
      "cell_type": "code",
      "source": [
        "flipped_ud = np.flipud(arr)\n",
        "print(flipped_ud)\n",
        "# Output:\n",
        "# [[3 4]\n",
        "#  [1 2]]\n"
      ],
      "metadata": {
        "colab": {
          "base_uri": "https://localhost:8080/"
        },
        "id": "Kp37ZPge7tYL",
        "outputId": "7a983163-abc7-44f5-a07a-546434038338"
      },
      "execution_count": 8,
      "outputs": [
        {
          "output_type": "stream",
          "name": "stdout",
          "text": [
            "[[3 4]\n",
            " [1 2]]\n"
          ]
        }
      ]
    },
    {
      "cell_type": "markdown",
      "source": [
        "**9. Discuss the functionality of the array_split() method in NumPy. How does it handle uneven splits?**\n",
        "\n",
        "The array_split() method in NumPy splits an array into specified numbers of sub-arrays. Unlike split(), it can handle cases where the array cannot be divided evenly.\n",
        "\n",
        "How It Handles Uneven Splits\n",
        "If the array cannot be split evenly, array_split() makes the initial sub-arrays larger.\n",
        "This ensures all parts have nearly equal elements, distributing the remainder to the first few sub-arrays.\n",
        "\n",
        "Summary: array_split() is flexible for uneven divisions, making it ideal for dynamic data partitioning."
      ],
      "metadata": {
        "id": "K2irBfNp7_OT"
      }
    },
    {
      "cell_type": "code",
      "source": [
        "import numpy as np\n",
        "arr = np.array([1, 2, 3, 4, 5])\n",
        "result = np.array_split(arr, 3)\n",
        "print(result)\n",
        "# Output: [array([1, 2]), array([3, 4]), array([5])]\n"
      ],
      "metadata": {
        "colab": {
          "base_uri": "https://localhost:8080/"
        },
        "id": "Zh-Kqyb78PyM",
        "outputId": "02828886-9448-4df8-cca6-113b88b70b71"
      },
      "execution_count": 9,
      "outputs": [
        {
          "output_type": "stream",
          "name": "stdout",
          "text": [
            "[array([1, 2]), array([3, 4]), array([5])]\n"
          ]
        }
      ]
    },
    {
      "cell_type": "markdown",
      "source": [
        "**10. Explain the concepts of vectorization and broadcasting in NumPy. How do they contribute to efficient array\n",
        "operations?**\n",
        "\n",
        "**Vectorization and broadcasting are key concepts in NumPy that enhance performance by optimizing array operations:**\n",
        "\n",
        "**1. Vectorization**\n",
        "Vectorization allows operations to be applied directly on entire arrays instead of looping through individual elements.\n",
        "It makes code faster and cleaner by offloading operations to optimized, low-level C functions."
      ],
      "metadata": {
        "id": "pQVFaSwO886p"
      }
    },
    {
      "cell_type": "code",
      "source": [
        "arr1 = np.array([1, 2, 3])\n",
        "arr2 = 2          # Scalar broadcasted to array\n",
        "result = arr1 + arr2  # Output: [3, 4, 5]\n"
      ],
      "metadata": {
        "id": "pnTUKnLp9wuu"
      },
      "execution_count": 10,
      "outputs": []
    },
    {
      "cell_type": "markdown",
      "source": [
        "**2. Broadcasting**\n",
        "Broadcasting allows arrays of different shapes to be combined in operations by “stretching” smaller arrays along specific dimensions without making extra copies.\n",
        "Enables efficient operations between arrays without reshaping or replicating data."
      ],
      "metadata": {
        "id": "rSpN668E9--L"
      }
    },
    {
      "cell_type": "code",
      "source": [
        "arr1 = np.array([1, 2, 3])\n",
        "arr2 = 2          # Scalar broadcasted to array\n",
        "result = arr1 + arr2  # Output: [3, 4, 5]\n"
      ],
      "metadata": {
        "id": "lBVpk5Z--DTa"
      },
      "execution_count": 11,
      "outputs": []
    },
    {
      "cell_type": "markdown",
      "source": [
        "### **Practical Questions:**"
      ],
      "metadata": {
        "id": "bZhb9jfJ-Sct"
      }
    },
    {
      "cell_type": "markdown",
      "source": [
        "**1. Create a 3x3 NumPy array with random integers between 1 and 100. Then, interchange its rows and columns?**"
      ],
      "metadata": {
        "id": "ZrvO9x7N-kfo"
      }
    },
    {
      "cell_type": "code",
      "source": [
        "import numpy as np\n",
        "\n",
        "import random\n",
        "\n",
        "ar=np.random.randint(1,100,size=(3,3))\n",
        "\n",
        "print(\"Original Array\",ar)\n",
        "\n",
        "print(\"Interchanged Array\",ar.T)"
      ],
      "metadata": {
        "colab": {
          "base_uri": "https://localhost:8080/"
        },
        "id": "16nzJolP-_IY",
        "outputId": "d6f47c0f-95c5-4a26-df2d-0cc093e471ee"
      },
      "execution_count": 14,
      "outputs": [
        {
          "output_type": "stream",
          "name": "stdout",
          "text": [
            "Original Array [[46 10 75]\n",
            " [76 91 55]\n",
            " [67 74 20]]\n",
            "Interchanged Array [[46 76 67]\n",
            " [10 91 74]\n",
            " [75 55 20]]\n"
          ]
        }
      ]
    },
    {
      "cell_type": "markdown",
      "source": [
        "**2. Generate a 1D NumPy array with 10 elements. Reshape it into a 2x5 array, then into a 5x2 array?**"
      ],
      "metadata": {
        "id": "H0UxYmpVAwKh"
      }
    },
    {
      "cell_type": "code",
      "source": [
        "import numpy as np\n",
        "\n",
        "# Generate a 1D NumPy array with 10 elements\n",
        "array_1d = np.arange(10)  # Creates an array with elements from 0 to 9\n",
        "\n",
        "# Reshape it into a 2x5 array\n",
        "array_2x5 = array_1d.reshape(2, 5)\n",
        "\n",
        "# Reshape it into a 5x2 array\n",
        "array_5x2 = array_1d.reshape(5, 2)\n",
        "\n",
        "# Display the results\n",
        "print(\"1D Array:\")\n",
        "print(array_1d)\n",
        "\n",
        "print(\"\\nReshaped to 2x5 Array:\")\n",
        "print(array_2x5)\n",
        "\n",
        "print(\"\\nReshaped to 5x2 Array:\")\n",
        "print(array_5x2)\n"
      ],
      "metadata": {
        "colab": {
          "base_uri": "https://localhost:8080/"
        },
        "id": "tPrkzTW5A7li",
        "outputId": "85969b87-fbe2-481c-eda3-d69f2655e19b"
      },
      "execution_count": 15,
      "outputs": [
        {
          "output_type": "stream",
          "name": "stdout",
          "text": [
            "1D Array:\n",
            "[0 1 2 3 4 5 6 7 8 9]\n",
            "\n",
            "Reshaped to 2x5 Array:\n",
            "[[0 1 2 3 4]\n",
            " [5 6 7 8 9]]\n",
            "\n",
            "Reshaped to 5x2 Array:\n",
            "[[0 1]\n",
            " [2 3]\n",
            " [4 5]\n",
            " [6 7]\n",
            " [8 9]]\n"
          ]
        }
      ]
    },
    {
      "cell_type": "markdown",
      "source": [
        "**3. Create a 4x4 NumPy array with random float values. Add a border of zeros around it, resulting in a 6x6 array?**"
      ],
      "metadata": {
        "id": "E3W1R6qgBV74"
      }
    },
    {
      "cell_type": "code",
      "source": [
        "import numpy as np\n",
        "import random\n",
        "\n",
        "a4x4=np.random.rand(4,4)\n",
        "print(\"Original Array\\n\",a4x4)\n",
        "\n",
        "a6x6=np.pad(a4x4,pad_width=1,mode='constant',constant_values=0)\n",
        "print(\"\\nNew Array\\n\\n\",a6x6)"
      ],
      "metadata": {
        "colab": {
          "base_uri": "https://localhost:8080/"
        },
        "id": "D6Fju30hBcBj",
        "outputId": "90dbe87e-619e-4ff5-cad2-a619251ffdfc"
      },
      "execution_count": 21,
      "outputs": [
        {
          "output_type": "stream",
          "name": "stdout",
          "text": [
            "Original Array\n",
            " [[0.27822641 0.72751753 0.68330005 0.41037205]\n",
            " [0.66457096 0.88976275 0.67722596 0.20937804]\n",
            " [0.40605082 0.27655476 0.24427286 0.79868001]\n",
            " [0.62995253 0.55324583 0.89482009 0.07470357]]\n",
            "\n",
            "New Array\n",
            "\n",
            " [[0.         0.         0.         0.         0.         0.        ]\n",
            " [0.         0.27822641 0.72751753 0.68330005 0.41037205 0.        ]\n",
            " [0.         0.66457096 0.88976275 0.67722596 0.20937804 0.        ]\n",
            " [0.         0.40605082 0.27655476 0.24427286 0.79868001 0.        ]\n",
            " [0.         0.62995253 0.55324583 0.89482009 0.07470357 0.        ]\n",
            " [0.         0.         0.         0.         0.         0.        ]]\n"
          ]
        }
      ]
    },
    {
      "cell_type": "markdown",
      "source": [
        "**4.Using NumPy, create an array of integers from 10 to 60 with a step of 5?**"
      ],
      "metadata": {
        "id": "8xrazKuBDWox"
      }
    },
    {
      "cell_type": "code",
      "source": [
        "array_of_integers = np.arange(10, 61, 5)\n",
        "print(array_of_integers)"
      ],
      "metadata": {
        "colab": {
          "base_uri": "https://localhost:8080/"
        },
        "id": "pV_KNSKIDWCo",
        "outputId": "497bba17-7d28-417a-c8c0-894216b3e642"
      },
      "execution_count": 26,
      "outputs": [
        {
          "output_type": "stream",
          "name": "stdout",
          "text": [
            "[10 15 20 25 30 35 40 45 50 55 60]\n"
          ]
        }
      ]
    },
    {
      "cell_type": "markdown",
      "source": [
        "**5.Create a NumPy array of strings ['python', 'numpy', 'pandas']. Apply different case transformations\n",
        "(uppercase, lowercase, title case, etc.) to each element?**"
      ],
      "metadata": {
        "id": "PkSfa5WoEKSq"
      }
    },
    {
      "cell_type": "code",
      "source": [
        "array_of_strings = np.array(['python', 'numpy', 'pandas'])\n",
        "print(\"Original Array\",array_of_strings)\n",
        "\n",
        "print(\" \\n\\n upper case array :\",np.char.upper(array_of_strings))\n",
        "\n",
        "print(\" \\n\\n lower case array :\",np.char.lower(array_of_strings))\n",
        "\n",
        "print(\" \\n\\n title case array :\",np.char.title(array_of_strings))"
      ],
      "metadata": {
        "colab": {
          "base_uri": "https://localhost:8080/"
        },
        "id": "K9BWjdoGEJw3",
        "outputId": "88f83f7e-2933-4b7e-d3ea-45a4ee43a208"
      },
      "execution_count": 32,
      "outputs": [
        {
          "output_type": "stream",
          "name": "stdout",
          "text": [
            "Original Array ['python' 'numpy' 'pandas']\n",
            " \n",
            "\n",
            " upper case array : ['PYTHON' 'NUMPY' 'PANDAS']\n",
            " \n",
            "\n",
            " lower case array : ['python' 'numpy' 'pandas']\n",
            " \n",
            "\n",
            " title case array : ['Python' 'Numpy' 'Pandas']\n"
          ]
        }
      ]
    },
    {
      "cell_type": "markdown",
      "source": [
        "**6.Generate a NumPy array of words. Insert a space between each character of every word in the array?**"
      ],
      "metadata": {
        "id": "VEonpOW4GVBT"
      }
    },
    {
      "cell_type": "code",
      "source": [
        "words=np.array(['python', 'numpy', 'pandas'])\n",
        "\n",
        "spaced_words = np.char.join(' ', words)\n",
        "\n",
        "print(spaced_words)"
      ],
      "metadata": {
        "colab": {
          "base_uri": "https://localhost:8080/"
        },
        "id": "ZTJEv7WFGZJU",
        "outputId": "eba9043f-1a79-4abc-8956-083e450aa1f4"
      },
      "execution_count": 33,
      "outputs": [
        {
          "output_type": "stream",
          "name": "stdout",
          "text": [
            "['p y t h o n' 'n u m p y' 'p a n d a s']\n"
          ]
        }
      ]
    },
    {
      "cell_type": "markdown",
      "source": [
        "**7.Create two 2D NumPy arrays and perform element-wise addition, subtraction, multiplication, and division?**"
      ],
      "metadata": {
        "id": "qTL0ZiQUHSQo"
      }
    },
    {
      "cell_type": "code",
      "source": [
        "a1=np.array([[1,2,3],[4,5,6]])\n",
        "\n",
        "a1=a1*2\n",
        "print(a1)\n",
        "\n",
        "a2=np.array([[7,8,9],[10,11,12]])\n",
        "\n",
        "a2=a2*2\n",
        "print(\"\\n\\n\",a2)\n",
        "\n",
        "\n",
        "import numpy as np\n",
        "\n",
        "# Create two 2D NumPy arrays\n",
        "array1 = np.array([[1, 2, 3],\n",
        "                   [4, 5, 6]])\n",
        "\n",
        "array2 = np.array([[7, 8, 9],\n",
        "                   [10, 11, 12]])\n",
        "\n",
        "# Perform element-wise operations\n",
        "addition = array1 + array2         # Element-wise addition\n",
        "subtraction = array1 - array2      # Element-wise subtraction\n",
        "multiplication = array1 * array2   # Element-wise multiplication\n",
        "division = array1 / array2         # Element-wise division\n",
        "\n",
        "# Display the results\n",
        "print(\"Array 1:\")\n",
        "print(array1)\n",
        "\n",
        "print(\"\\nArray 2:\")\n",
        "print(array2)\n",
        "\n",
        "print(\"\\nElement-wise Addition:\")\n",
        "print(addition)\n",
        "\n",
        "print(\"\\nElement-wise Subtraction:\")\n",
        "print(subtraction)\n",
        "\n",
        "print(\"\\nElement-wise Multiplication:\")\n",
        "print(multiplication)\n",
        "\n",
        "print(\"\\nElement-wise Division:\")\n",
        "print(division)\n"
      ],
      "metadata": {
        "colab": {
          "base_uri": "https://localhost:8080/"
        },
        "id": "joZErnGaHigD",
        "outputId": "0791db19-f804-45d7-c080-8a2bc81411ab"
      },
      "execution_count": 41,
      "outputs": [
        {
          "output_type": "stream",
          "name": "stdout",
          "text": [
            "[[ 2  4  6]\n",
            " [ 8 10 12]]\n",
            "\n",
            "\n",
            " [[14 16 18]\n",
            " [20 22 24]]\n",
            "Array 1:\n",
            "[[1 2 3]\n",
            " [4 5 6]]\n",
            "\n",
            "Array 2:\n",
            "[[ 7  8  9]\n",
            " [10 11 12]]\n",
            "\n",
            "Element-wise Addition:\n",
            "[[ 8 10 12]\n",
            " [14 16 18]]\n",
            "\n",
            "Element-wise Subtraction:\n",
            "[[-6 -6 -6]\n",
            " [-6 -6 -6]]\n",
            "\n",
            "Element-wise Multiplication:\n",
            "[[ 7 16 27]\n",
            " [40 55 72]]\n",
            "\n",
            "Element-wise Division:\n",
            "[[0.14285714 0.25       0.33333333]\n",
            " [0.4        0.45454545 0.5       ]]\n"
          ]
        }
      ]
    },
    {
      "cell_type": "markdown",
      "source": [
        "**8.Use NumPy to create a 5x5 identity matrix, then extract its diagonal elements?**"
      ],
      "metadata": {
        "id": "TnTLaSo_IyrO"
      }
    },
    {
      "cell_type": "code",
      "source": [
        "m = np.matrix(np.random.randint(1, 101, size=(5, 5)))\n",
        "print(m,\"\\n\\n\")\n",
        "\n",
        "d=np.diagonal(m)\n",
        "print(d)\n"
      ],
      "metadata": {
        "colab": {
          "base_uri": "https://localhost:8080/"
        },
        "id": "JV699P9JIooh",
        "outputId": "1a39c15d-4dc9-45aa-a180-387bb227e39a"
      },
      "execution_count": 44,
      "outputs": [
        {
          "output_type": "stream",
          "name": "stdout",
          "text": [
            "[[ 8 98 84 98 29]\n",
            " [71 81 47 70 13]\n",
            " [71 73 30 22  5]\n",
            " [23 77 38 57 10]\n",
            " [54 22  8 66 43]] \n",
            "\n",
            "\n",
            "[ 8 81 30 57 43]\n"
          ]
        }
      ]
    },
    {
      "cell_type": "markdown",
      "source": [
        "**9.Generate a NumPy array of 100 random integers between 0 and 1000. Find and display all prime numbers in\n",
        "this array?**"
      ],
      "metadata": {
        "id": "NkQnH3hSKMje"
      }
    },
    {
      "cell_type": "code",
      "source": [
        "n=np.random.randint(0,1000,size=(100))\n",
        "print(n,\"\\n\\n\")\n",
        "\n",
        "def is_prime(num):\n",
        "    if num <= 1:\n",
        "        return False\n",
        "    if num <= 3:\n",
        "        return True\n",
        "    if num % 2 == 0 or num % 3 == 0:\n",
        "        return False\n",
        "    else:\n",
        "      return True\n",
        "prime_numbers = [num for num in n if is_prime(num)]\n",
        "\n",
        "print(\"\\n\\n Prime numbers in the array:\",prime_numbers)"
      ],
      "metadata": {
        "colab": {
          "base_uri": "https://localhost:8080/"
        },
        "id": "Pg5EB0jVKMGC",
        "outputId": "13c5109d-cdd3-40dc-c437-8847a370d9bb"
      },
      "execution_count": 54,
      "outputs": [
        {
          "output_type": "stream",
          "name": "stdout",
          "text": [
            "[619 650 891 230  41 239 492 444 270  48 590 591 929  65 113 201 633 974\n",
            " 108 196 499 476 858 574 737 443  18 649 950 905 510 129 719 497 662 276\n",
            " 657 487 127 312 398 251 435 752 261 539 121  51 253 469 593 270   3 573\n",
            "  83 403 778 192 132   8 768 800  82 478 425 246 656 490 917 961 162 853\n",
            " 729 321 501 331 514 604   2 493 158 786 586 136 245 571 396 571 140 447\n",
            " 503 336 661 282 277 974 808 746 453 369] \n",
            "\n",
            "\n",
            "\n",
            "\n",
            " Prime numbers in the array: [619, 41, 239, 929, 65, 113, 499, 737, 443, 649, 905, 719, 497, 487, 127, 251, 539, 121, 253, 469, 593, 3, 83, 403, 425, 917, 961, 853, 331, 2, 493, 245, 571, 571, 503, 661, 277]\n"
          ]
        }
      ]
    },
    {
      "cell_type": "markdown",
      "source": [
        "**10. Create a NumPy array representing daily temperatures for a month. Calculate and display the weekly\n",
        "averages?**"
      ],
      "metadata": {
        "id": "tpJqhiu9N0dw"
      }
    },
    {
      "cell_type": "code",
      "source": [
        "import numpy as np\n",
        "\n",
        "# Generate a random array of daily temperatures for 30 days between 15°C and 35°C\n",
        "daily_temperatures = np.random.randint(15, 36, size=30)\n",
        "print(\"Daily Temperatures for the Month:\\n\", daily_temperatures)\n",
        "\n",
        "# Reshape the array to represent 4 weeks of 7 days each and calculate weekly averages\n",
        "weekly_temperatures = daily_temperatures[:28].reshape(4, 7)\n",
        "weekly_averages = weekly_temperatures.mean(axis=1)\n",
        "\n",
        "# Display weekly averages\n",
        "print(\"\\nWeekly Averages:\")\n",
        "for i, avg in enumerate(weekly_averages, start=1):\n",
        "    print(f\"Week {i}: {avg:.2f}°C\")\n",
        "\n",
        "\n"
      ],
      "metadata": {
        "colab": {
          "base_uri": "https://localhost:8080/"
        },
        "id": "HavrSleZN5jl",
        "outputId": "2dc2c8d0-a321-413f-8def-c4b8fa512650"
      },
      "execution_count": 56,
      "outputs": [
        {
          "output_type": "stream",
          "name": "stdout",
          "text": [
            "Daily Temperatures for the Month:\n",
            " [30 25 25 17 32 16 30 35 26 34 18 31 15 15 20 34 24 26 20 21 30 32 28 18\n",
            " 16 15 35 19 15 27]\n",
            "\n",
            "Weekly Averages:\n",
            "Week 1: 25.00°C\n",
            "Week 2: 24.86°C\n",
            "Week 3: 25.00°C\n",
            "Week 4: 23.29°C\n"
          ]
        }
      ]
    }
  ]
}
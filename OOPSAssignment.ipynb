{
  "nbformat": 4,
  "nbformat_minor": 0,
  "metadata": {
    "colab": {
      "provenance": []
    },
    "kernelspec": {
      "name": "python3",
      "display_name": "Python 3"
    },
    "language_info": {
      "name": "python"
    }
  },
  "cells": [
    {
      "cell_type": "markdown",
      "source": [
        "### **OOPS ASSIGNMENT :**\n",
        "\n",
        "**1.What are the five key concepts of Object-Oriented Programming (OOP)?**\n",
        "\n",
        "The five key concepts of Object-Oriented Programming (OOP) are:\n",
        "\n",
        "**Class:** A blueprint for creating objects. It defines the attributes (variables) and methods (functions) that the objects created from it will have.\n",
        "\n",
        "**Example:** A Car class with attributes like color and speed and methods like drive().\n",
        "Object: An instance of a class. It represents a specific entity created from the class.\n",
        "\n",
        "**Example:** myCar = Car() creates an object myCar from the Car class.\n",
        "\n",
        "**Encapsulation:** Bundling data (attributes) and methods that operate on the data into a single unit (class), and restricting direct access to some of the object's components.\n",
        "\n",
        "**Example:** Using private variables and public methods to control access.\n",
        "\n",
        "**Inheritance:** A mechanism where a new class inherits attributes and methods from an existing class, allowing code reuse and the creation of hierarchical relationships.\n",
        "\n",
        "**Example:** A SportsCar class inherits from the Car class.\n",
        "\n",
        "**Polymorphism:** The ability of different objects to respond to the same method in their own way. It allows methods to be defined in a way that is flexible for multiple object types.\n",
        "\n",
        "**Example:** A Car class and a Bicycle class can both have a move() method, but each class implements it differently.\n",
        "\n",
        "These concepts help in organizing and managing complex programs by using a structured and reusable approach."
      ],
      "metadata": {
        "id": "u8YBPk8n6MhD"
      }
    },
    {
      "cell_type": "markdown",
      "source": [
        "**2. Write a Python class for a `Car` with attributes for `make`, `model`, and `year`. Include a method to display\n",
        "the car's information ?**\n"
      ],
      "metadata": {
        "id": "XRp88tyf9UiO"
      }
    },
    {
      "cell_type": "code",
      "execution_count": null,
      "metadata": {
        "id": "Jmtiowzr6Hhj"
      },
      "outputs": [],
      "source": [
        "class Car:\n",
        "    def __init__(self, make, model, year):\n",
        "        self.make=make\n",
        "        self.model=model\n",
        "        self.year=year\n",
        "\n",
        "    def cars_information(self):\n",
        "        print(f\"Car's information {self.make},{self.model},{self.year}\")"
      ]
    },
    {
      "cell_type": "code",
      "source": [
        "cr = Car(\"Toyota\",\"Corolla\",2023)\n",
        "cr.cars_information()"
      ],
      "metadata": {
        "colab": {
          "base_uri": "https://localhost:8080/"
        },
        "id": "TIeX6baW_uSt",
        "outputId": "b0bb2988-5719-4ca0-e26c-8ac7cd23fa0b"
      },
      "execution_count": null,
      "outputs": [
        {
          "output_type": "stream",
          "name": "stdout",
          "text": [
            "Car's information Toyota,Corolla,2023\n"
          ]
        }
      ]
    },
    {
      "cell_type": "markdown",
      "source": [
        "### **3. Explain the difference between instance methods and class methods. Provide an example of each ?**\n",
        "\n",
        "**instance methods and class methods are two types of methods that are defined in a class, but they have different purposes and behaviors.**\n",
        "\n",
        "####**1. Instance Methods:** Definition: Instance methods are methods that operate on an instance of a class (i.e., the object itself). They can access and modify object-specific data (instance variables).\n",
        "\n",
        "**Access:** They can access instance variables and instance-specific data through the self\n",
        "\n",
        "**Usage:** Used for actions specific to an individual object.\n",
        "\n",
        "**How to Identify:** They always take '__self__' as the first parameter, which refers to the specific instance."
      ],
      "metadata": {
        "id": "bccpfZVIAC4R"
      }
    },
    {
      "cell_type": "code",
      "source": [
        "class Car:\n",
        "    def __init__(self, make, model, year):\n",
        "        self.make=make\n",
        "        self.model=model\n",
        "        self.year=year\n",
        "\n",
        "    def cars_information(self):\n",
        "        print(f\"Car's information {self.make},{self.model},{self.year}\")"
      ],
      "metadata": {
        "id": "I1CaiFJaDVBT"
      },
      "execution_count": null,
      "outputs": []
    },
    {
      "cell_type": "code",
      "source": [
        "c=Car(\"Toyota\",\"Corolla\",2023)\n",
        "c.cars_information()"
      ],
      "metadata": {
        "colab": {
          "base_uri": "https://localhost:8080/"
        },
        "id": "kP-1GmCfEu3D",
        "outputId": "3f557722-9e1c-4e02-f7cb-e39ee46db8f4"
      },
      "execution_count": null,
      "outputs": [
        {
          "output_type": "stream",
          "name": "stdout",
          "text": [
            "Car's information Toyota,Corolla,2023\n"
          ]
        }
      ]
    },
    {
      "cell_type": "markdown",
      "source": [
        "**2.Class method :** which are not bound to any specific instance but the class.\n",
        "\n",
        "You can use class methods for any methods that are not bound to a specific instance but the class. In practice, you often use class methods for methods that create an instance of the class.\n",
        "\n",
        "When a method creates an instance of the class and returns it, the method is called a factory method. For example, the create_anonymous() is a factory method because it returns a new instance of the Person class."
      ],
      "metadata": {
        "id": "GgiH21pjFOfM"
      }
    },
    {
      "cell_type": "markdown",
      "source": [
        "![Screenshot 2024-10-24 204701.png](data:image/png;base64,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)"
      ],
      "metadata": {
        "id": "NOIs4AxNHdZI"
      }
    },
    {
      "cell_type": "code",
      "source": [
        "class Car:\n",
        "  make = None  # Class-level attribute\n",
        "  model = None  # Class-level attribute\n",
        "  def __init__(self,make,model):\n",
        "    self.make=make\n",
        "    self.model=model\n",
        "\n",
        "  @classmethod\n",
        "  def car_info(cls):\n",
        "    return f'{cls.make} {cls.model}'\n",
        "\n",
        "  @classmethod\n",
        "  def car_set(cls,model,make):\n",
        "    cls.make=make\n",
        "    cls.model=model\n",
        "\n",
        "  @classmethod\n",
        "  def car_get(cls):\n",
        "    return f'{cls.make} {cls.model}'\n",
        "  @classmethod\n",
        "  def delete_car1(cls):\n",
        "    del cls.model\n",
        "    del cls.make\n",
        "    return 'deleted'\n"
      ],
      "metadata": {
        "id": "1pAVHIX2Hgi6"
      },
      "execution_count": 24,
      "outputs": []
    },
    {
      "cell_type": "code",
      "source": [
        "Car('bmw','x5')"
      ],
      "metadata": {
        "id": "wkJzybfUittM",
        "colab": {
          "base_uri": "https://localhost:8080/"
        },
        "outputId": "027adc7d-e0c0-4169-f045-6b72cd9be141"
      },
      "execution_count": 19,
      "outputs": [
        {
          "output_type": "execute_result",
          "data": {
            "text/plain": [
              "<__main__.Car at 0x7ca8b36c0700>"
            ]
          },
          "metadata": {},
          "execution_count": 19
        }
      ]
    },
    {
      "cell_type": "code",
      "source": [
        "Car.car_info()"
      ],
      "metadata": {
        "colab": {
          "base_uri": "https://localhost:8080/",
          "height": 36
        },
        "id": "fFyL0p3aXfFS",
        "outputId": "12149816-8dee-4d85-98d2-e2c8e4c359ad"
      },
      "execution_count": 20,
      "outputs": [
        {
          "output_type": "execute_result",
          "data": {
            "text/plain": [
              "'None None'"
            ],
            "application/vnd.google.colaboratory.intrinsic+json": {
              "type": "string"
            }
          },
          "metadata": {},
          "execution_count": 20
        }
      ]
    },
    {
      "cell_type": "code",
      "source": [
        "Car.car_set('Audi','Q7')"
      ],
      "metadata": {
        "id": "HkGypjCIZeFz"
      },
      "execution_count": 26,
      "outputs": []
    },
    {
      "cell_type": "code",
      "source": [
        "Car.car_get()"
      ],
      "metadata": {
        "colab": {
          "base_uri": "https://localhost:8080/",
          "height": 36
        },
        "id": "8VcbZTWuZiLd",
        "outputId": "fde833af-582a-4525-8681-355516ca5735"
      },
      "execution_count": 27,
      "outputs": [
        {
          "output_type": "execute_result",
          "data": {
            "text/plain": [
              "'Q7 Audi'"
            ],
            "application/vnd.google.colaboratory.intrinsic+json": {
              "type": "string"
            }
          },
          "metadata": {},
          "execution_count": 27
        }
      ]
    },
    {
      "cell_type": "code",
      "source": [
        "#2nd type\n",
        "# as we r not using any call level attributes it will throw an error if we directly try to access the attributes make and model\n",
        "class Car:\n",
        "  #here wee dont need the __init__ method as we are not deleling with the instances\n",
        "  @classmethod\n",
        "  def car_info(cls):\n",
        "    return f'{cls.make} {cls.model}'\n",
        "\n",
        "  @classmethod\n",
        "  def car_set(cls,model,make):\n",
        "    cls.make=make\n",
        "    cls.model=model\n",
        "\n",
        "  @classmethod\n",
        "  def car_get(cls):\n",
        "    return f'{cls.make} {cls.model}'\n",
        "  @classmethod\n",
        "  def delete_car1(cls):\n",
        "    del cls.model\n",
        "    del cls.make\n",
        "    return 'deleted'\n"
      ],
      "metadata": {
        "id": "MWF8pUmmaP9i"
      },
      "execution_count": 32,
      "outputs": []
    },
    {
      "cell_type": "code",
      "source": [
        "Car.car_set('Audi','Q7')"
      ],
      "metadata": {
        "id": "MB9xXrKSaqWx"
      },
      "execution_count": 33,
      "outputs": []
    },
    {
      "cell_type": "code",
      "source": [
        "Car.car_get()"
      ],
      "metadata": {
        "colab": {
          "base_uri": "https://localhost:8080/",
          "height": 36
        },
        "id": "gNG3Y387auzS",
        "outputId": "5470d9de-419a-44b0-993b-b7584850efe2"
      },
      "execution_count": 34,
      "outputs": [
        {
          "output_type": "execute_result",
          "data": {
            "text/plain": [
              "'Q7 Audi'"
            ],
            "application/vnd.google.colaboratory.intrinsic+json": {
              "type": "string"
            }
          },
          "metadata": {},
          "execution_count": 34
        }
      ]
    },
    {
      "cell_type": "code",
      "source": [
        "#if we directly try to access the make and model it will throw an error\n",
        "Car.make"
      ],
      "metadata": {
        "colab": {
          "base_uri": "https://localhost:8080/",
          "height": 36
        },
        "id": "w61IDQ3_a0Fz",
        "outputId": "60b900e0-0baf-4868-ba8d-c78b2fc86bf5"
      },
      "execution_count": 35,
      "outputs": [
        {
          "output_type": "execute_result",
          "data": {
            "text/plain": [
              "'Q7'"
            ],
            "application/vnd.google.colaboratory.intrinsic+json": {
              "type": "string"
            }
          },
          "metadata": {},
          "execution_count": 35
        }
      ]
    },
    {
      "cell_type": "code",
      "source": [
        "class Car:\n",
        "    def __init__(self, make, model):\n",
        "        self.make = make\n",
        "        self.model = model\n",
        "\n",
        "    def car_info(self):\n",
        "        \"\"\"Return car's make and model.\"\"\"\n",
        "        return f'{self.make} {self.model}'\n",
        "\n",
        "    def car_set(self, make, model):\n",
        "        \"\"\"Set new make and model.\"\"\"\n",
        "        self.make = make\n",
        "        self.model = model\n",
        "\n",
        "    def car_get(self):\n",
        "        \"\"\"Get the car's current make and model.\"\"\"\n",
        "        return f'{self.make} {self.model}'\n",
        "\n",
        "    def delete_car(self):\n",
        "        \"\"\"Delete make and model attributes.\"\"\"\n",
        "        del self.model\n",
        "        del self.make\n",
        "        return 'deleted'\n",
        "\n",
        "# Example usage:\n",
        "car_instance = Car('BMW', 'X5')\n",
        "\n",
        "# Get initial car info\n",
        "print(car_instance.car_info())\n",
        "\n",
        "# Set new make and model\n",
        "car_instance.car_set('Audi', 'Q7')\n",
        "\n",
        "# Get updated car info\n",
        "print(car_instance.car_get())\n",
        "\n",
        "# Delete make and model\n",
        "print(car_instance.delete_car())\n"
      ],
      "metadata": {
        "colab": {
          "base_uri": "https://localhost:8080/"
        },
        "id": "SDTijzH6l4Nd",
        "outputId": "fa6fbf1d-d7af-4874-c90c-0f482c4ae2d6"
      },
      "execution_count": null,
      "outputs": [
        {
          "output_type": "stream",
          "name": "stdout",
          "text": [
            "BMW X5\n",
            "Audi Q7\n",
            "deleted\n"
          ]
        }
      ]
    },
    {
      "cell_type": "markdown",
      "source": [
        "**4. How does Python implement method overloading? Give an example?**\n",
        "\n",
        "Python does not support method overloading directly like some other languages (e.g., Java or C++). Instead, Python handles method overloading by allowing default arguments or using variable arguments (*args, **kwargs) in a method. This means a single method can be written to handle different numbers of arguments."
      ],
      "metadata": {
        "id": "Y_cqeuDrnEUq"
      }
    },
    {
      "cell_type": "code",
      "source": [
        "class Calculator:\n",
        "    def add(self, a, b=0):\n",
        "        return a + b\n",
        "\n",
        "calc = Calculator()\n",
        "\n",
        "# Calling the method with one argument\n",
        "print(calc.add(5))\n",
        "# Calling the method with two arguments\n",
        "print(calc.add(5, 10))\n"
      ],
      "metadata": {
        "colab": {
          "base_uri": "https://localhost:8080/"
        },
        "id": "BrO3PYbCmpp0",
        "outputId": "97552e77-e027-421b-b28c-032b3c359322"
      },
      "execution_count": null,
      "outputs": [
        {
          "output_type": "stream",
          "name": "stdout",
          "text": [
            "5\n",
            "15\n"
          ]
        }
      ]
    },
    {
      "cell_type": "markdown",
      "source": [
        "**5. What are the three types of access modifiers in Python? How are they denoted?**\n",
        "\n",
        "In Python, the three types of access modifiers are:\n",
        "\n",
        "Public: Accessible from anywhere. Denoted by no leading underscores.\n",
        "\n",
        "Example: self.name\n",
        "Protected: Accessible within the class and its subclasses. Denoted by a single leading underscore (_).\n",
        "\n",
        "Example: self._name\n",
        "Private: Accessible only within the class. Denoted by two leading underscores (__).\n",
        "\n",
        "Example: self.__name"
      ],
      "metadata": {
        "id": "39MMnzpPoXw0"
      }
    },
    {
      "cell_type": "markdown",
      "source": [
        "**6. Describe the five types of inheritance in Python. Provide a simple example of multiple inheritance?**\n",
        "\n",
        "**Single Inheritance: A child class inherits from one parent class.\n",
        "Multiple Inheritance: A child class inherits from more than one parent class.\n",
        "Multilevel Inheritance: A class is derived from a class that is already derived from another class.\n",
        "Hierarchical Inheritance: Multiple child classes inherit from a single parent class.\n",
        "Hybrid Inheritance: A combination of more than one type of inheritance.\n",
        "Example of Multiple Inheritance:**"
      ],
      "metadata": {
        "id": "dWF01S6ip6qc"
      }
    },
    {
      "cell_type": "code",
      "source": [
        "class Parent1:\n",
        "    def display_p1(self):\n",
        "        print(\"This is Parent1\")\n",
        "\n",
        "class Parent2:\n",
        "    def display_p2(self):\n",
        "        print(\"This is Parent2\")\n",
        "\n",
        "class Child(Parent1, Parent2):\n",
        "    def display_child(self):\n",
        "        print(\"This is Child\")\n",
        "\n",
        "# Creating an object of Child class\n",
        "c = Child()\n",
        "c.display_p1()  # Accessing method from Parent1\n",
        "c.display_p2()  # Accessing method from Parent2\n",
        "c.display_child()  # Accessing method from Child\n"
      ],
      "metadata": {
        "id": "o5vmpbjBq44B"
      },
      "execution_count": null,
      "outputs": []
    },
    {
      "cell_type": "markdown",
      "source": [
        "**7. What is the Method Resolution Order (MRO) in Python? How can you retrieve it programmatically?**\n",
        "\n",
        "The Method Resolution Order __(MRO)__ in Python is the order in which Python looks for a method in a hierarchy of classes. This is especially important in the context of multiple inheritance. Python uses the C3 linearization algorithm to determine the MRO, ensuring a consistent and predictable order"
      ],
      "metadata": {
        "id": "3NDUbaSXcWa5"
      }
    },
    {
      "cell_type": "code",
      "source": [
        "#example for it\n",
        "class A:\n",
        "  def display(self):\n",
        "    print(\"im in A class\")\n",
        "class B(A):\n",
        "  def display(self):\n",
        "    print(\"im in B class\")\n",
        "class C(A):\n",
        "  def display(self):\n",
        "    print(\"im in C class\")\n",
        "class D(B,C):\n",
        "  def hello(self):\n",
        "    print(\"im in D class\")"
      ],
      "metadata": {
        "id": "dyF2xczIct_k"
      },
      "execution_count": 39,
      "outputs": []
    },
    {
      "cell_type": "code",
      "source": [
        "d=D()"
      ],
      "metadata": {
        "id": "KRKvAWVQf9Kt"
      },
      "execution_count": 40,
      "outputs": []
    },
    {
      "cell_type": "code",
      "source": [
        "d.display()"
      ],
      "metadata": {
        "colab": {
          "base_uri": "https://localhost:8080/"
        },
        "id": "VTJ9DOd1gDt9",
        "outputId": "aaad41ee-7e1a-49dd-9850-58576cc129cc"
      },
      "execution_count": 41,
      "outputs": [
        {
          "output_type": "stream",
          "name": "stdout",
          "text": [
            "im in B class\n"
          ]
        }
      ]
    },
    {
      "cell_type": "code",
      "source": [
        "d.hello()"
      ],
      "metadata": {
        "colab": {
          "base_uri": "https://localhost:8080/"
        },
        "id": "RX5odAbjhk0H",
        "outputId": "8841ce39-ba50-4d90-833c-c78d4876f0c9"
      },
      "execution_count": 42,
      "outputs": [
        {
          "output_type": "stream",
          "name": "stdout",
          "text": [
            "im in D class\n"
          ]
        }
      ]
    },
    {
      "cell_type": "markdown",
      "source": [
        "** 8. Create an abstract base class `Shape` with an abstract method `area()`. Then create two subclasses\n",
        "`Circle` and `Rectangle` that implement the `area()` method?**\n",
        "\n",
        "here are few points about the abstraction\n",
        "\n",
        "it is the concept of hiding the complex implementation\n",
        "\n",
        "hiding unwanted details and exposing the required\n",
        "\n",
        "abstract class can not be instantiated (can not make object)\n",
        "\n",
        "abstarct class may conatin menthods that are just declared an dnot implemented in abstract class itself, subclass are responsible for implementing these abstract methods."
      ],
      "metadata": {
        "id": "aHdygQEAhpEI"
      }
    },
    {
      "cell_type": "code",
      "source": [
        "import abc\n",
        "import math\n",
        "\n",
        "class Shape:\n",
        "\n",
        "  @abc.abstractmethod\n",
        "  def area(self):\n",
        "    pass\n",
        "\n",
        "class Circle(Shape):\n",
        "  def __init__(self,radius):\n",
        "    self.radius=radius\n",
        "  def area(self):\n",
        "    return math.pi*self.radius**2\n",
        "\n",
        "class Rectangle(Shape):\n",
        "  def __init__(self,l,b):\n",
        "    self.l=l\n",
        "    self.b=b\n",
        "  def area(self):\n",
        "    return self.l*self.b"
      ],
      "metadata": {
        "id": "NaAjeuHYh3hA"
      },
      "execution_count": 45,
      "outputs": []
    },
    {
      "cell_type": "code",
      "source": [
        "c=Circle(5)\n",
        "c.area"
      ],
      "metadata": {
        "colab": {
          "base_uri": "https://localhost:8080/",
          "height": 104
        },
        "id": "7jXGmwQDnb37",
        "outputId": "3d59cd34-2c5d-417f-8965-eab87ea44e29"
      },
      "execution_count": 47,
      "outputs": [
        {
          "output_type": "execute_result",
          "data": {
            "text/plain": [
              "<bound method Circle.area of <__main__.Circle object at 0x7ca8b378f610>>"
            ],
            "text/html": [
              "<div style=\"max-width:800px; border: 1px solid var(--colab-border-color);\"><style>\n",
              "      pre.function-repr-contents {\n",
              "        overflow-x: auto;\n",
              "        padding: 8px 12px;\n",
              "        max-height: 500px;\n",
              "      }\n",
              "\n",
              "      pre.function-repr-contents.function-repr-contents-collapsed {\n",
              "        cursor: pointer;\n",
              "        max-height: 100px;\n",
              "      }\n",
              "    </style>\n",
              "    <pre style=\"white-space: initial; background:\n",
              "         var(--colab-secondary-surface-color); padding: 8px 12px;\n",
              "         border-bottom: 1px solid var(--colab-border-color);\"><b>Circle.area</b><br/>def area()</pre><pre class=\"function-repr-contents function-repr-contents-collapsed\" style=\"\"><a class=\"filepath\" style=\"display:none\" href=\"#\">/content/&lt;ipython-input-45-d5976bc4dbdf&gt;</a>&lt;no docstring&gt;</pre></div>"
            ]
          },
          "metadata": {},
          "execution_count": 47
        }
      ]
    },
    {
      "cell_type": "code",
      "source": [
        "c.area()"
      ],
      "metadata": {
        "colab": {
          "base_uri": "https://localhost:8080/"
        },
        "id": "q71Z0Uarnke1",
        "outputId": "f7348e7c-bc96-4c55-d4c1-7dcff01bfb5f"
      },
      "execution_count": 48,
      "outputs": [
        {
          "output_type": "execute_result",
          "data": {
            "text/plain": [
              "78.53981633974483"
            ]
          },
          "metadata": {},
          "execution_count": 48
        }
      ]
    },
    {
      "cell_type": "code",
      "source": [
        "r=Rectangle(4,5)\n",
        "r.area()"
      ],
      "metadata": {
        "colab": {
          "base_uri": "https://localhost:8080/"
        },
        "id": "QEflyyk_nmHB",
        "outputId": "60e10892-c07f-4f93-9459-61552b45c9de"
      },
      "execution_count": 49,
      "outputs": [
        {
          "output_type": "execute_result",
          "data": {
            "text/plain": [
              "20"
            ]
          },
          "metadata": {},
          "execution_count": 49
        }
      ]
    },
    {
      "cell_type": "markdown",
      "source": [
        "**9. Demonstrate polymorphism by creating a function that can work with different shape objects to calculate\n",
        "and print their areas?**"
      ],
      "metadata": {
        "id": "HB7dUWprnyTY"
      }
    },
    {
      "cell_type": "code",
      "source": [
        "import abc\n",
        "\n",
        "class Shape:\n",
        "\n",
        "\n",
        "  def area(self):\n",
        "    pass\n",
        "\n",
        "class Rectangle(Shape):\n",
        "\n",
        "  def __init__(self,l):\n",
        "    self.l=l\n",
        "  def area(self):\n",
        "    return self.l**2\n",
        "\n",
        "class Circle(Shape):\n",
        "  def __init__(self,r):\n",
        "    self.r=r\n",
        "  def area(self):\n",
        "    return 3.14*self.r**2\n",
        "\n",
        "class Triangle(Shape):\n",
        "  def __init__(self,b,h):\n",
        "    self.b=b\n",
        "    self.h=h\n",
        "  def area(self):\n",
        "    return 0.5*self.b*self.h\n",
        "\n",
        "\n",
        "def print_area(Shape):\n",
        "  for shape in Shape:\n",
        "    print(shape.area())\n",
        "  print(f\"area of the shape is {shape.area()}\")"
      ],
      "metadata": {
        "id": "SMi0u0rAnv_-"
      },
      "execution_count": 50,
      "outputs": []
    },
    {
      "cell_type": "code",
      "source": [
        "r=Rectangle(5)\n",
        "c=Circle(5)\n",
        "t=Triangle(5,6)\n",
        "r.area()"
      ],
      "metadata": {
        "colab": {
          "base_uri": "https://localhost:8080/"
        },
        "id": "vi-7e1LsrB5N",
        "outputId": "7ba85745-8e93-4660-81dd-8f3860164392"
      },
      "execution_count": 54,
      "outputs": [
        {
          "output_type": "execute_result",
          "data": {
            "text/plain": [
              "25"
            ]
          },
          "metadata": {},
          "execution_count": 54
        }
      ]
    },
    {
      "cell_type": "markdown",
      "source": [
        "** 10. Implement encapsulation in a `BankAccount` class with private attributes for `balance` and\n",
        "`account_number`. Include methods for deposit, withdrawal, and balance inquiry?**"
      ],
      "metadata": {
        "id": "iByAd8JrrsZ8"
      }
    },
    {
      "cell_type": "code",
      "source": [
        "class BankAccount:\n",
        "\n",
        "  def __init__(self,balance,account_number):\n",
        "    self.__balance=balance\n",
        "    self.__account_number=account_number\n",
        "\n",
        "  def deposit(self,amount):\n",
        "    self.__balance+=amount\n",
        "    return self.__balance\n",
        "  def withdrawal(self,amount):\n",
        "    if self.__balance>=amount:\n",
        "      self.__balance-=amount\n",
        "      return self.__balance\n",
        "    else:\n",
        "      return \"insufficient balance\"\n",
        "  def balance_inquiry(self):\n",
        "    return self.__balance"
      ],
      "metadata": {
        "id": "Qo8jYegbry_i"
      },
      "execution_count": 55,
      "outputs": []
    },
    {
      "cell_type": "code",
      "source": [
        "b=BankAccount(1000,123456789)\n",
        "b.deposit(500)"
      ],
      "metadata": {
        "colab": {
          "base_uri": "https://localhost:8080/"
        },
        "id": "qVdAJtfasjAI",
        "outputId": "39b361b8-2fe1-4a5d-f652-0af8e3c717c4"
      },
      "execution_count": 57,
      "outputs": [
        {
          "output_type": "execute_result",
          "data": {
            "text/plain": [
              "1500"
            ]
          },
          "metadata": {},
          "execution_count": 57
        }
      ]
    },
    {
      "cell_type": "code",
      "source": [
        "b.withdrawal(1000)"
      ],
      "metadata": {
        "colab": {
          "base_uri": "https://localhost:8080/"
        },
        "id": "84O4Kw0dsvP7",
        "outputId": "be4ae5b4-39a0-40b9-80b2-0baffe93d6c7"
      },
      "execution_count": 58,
      "outputs": [
        {
          "output_type": "execute_result",
          "data": {
            "text/plain": [
              "500"
            ]
          },
          "metadata": {},
          "execution_count": 58
        }
      ]
    },
    {
      "cell_type": "code",
      "source": [
        "b.withdrawal(600)"
      ],
      "metadata": {
        "colab": {
          "base_uri": "https://localhost:8080/",
          "height": 36
        },
        "id": "LaQDRA7Is1X2",
        "outputId": "137cbde1-9563-448c-eb87-346838645662"
      },
      "execution_count": 59,
      "outputs": [
        {
          "output_type": "execute_result",
          "data": {
            "text/plain": [
              "'insufficient balance'"
            ],
            "application/vnd.google.colaboratory.intrinsic+json": {
              "type": "string"
            }
          },
          "metadata": {},
          "execution_count": 59
        }
      ]
    },
    {
      "cell_type": "code",
      "source": [
        "b.withdrawal(500)"
      ],
      "metadata": {
        "colab": {
          "base_uri": "https://localhost:8080/"
        },
        "id": "ABob9wiEs5Vy",
        "outputId": "a195bd6c-447f-4dd6-816a-72e1f353e2f5"
      },
      "execution_count": 60,
      "outputs": [
        {
          "output_type": "execute_result",
          "data": {
            "text/plain": [
              "0"
            ]
          },
          "metadata": {},
          "execution_count": 60
        }
      ]
    },
    {
      "cell_type": "markdown",
      "source": [
        "**11. Write a class that overrides the `__str__` and `__add__` magic methods. What will these methods allow\n",
        "you to do?**"
      ],
      "metadata": {
        "id": "6yCjSeUgtA6x"
      }
    },
    {
      "cell_type": "code",
      "source": [
        "class Collage:\n",
        "\n",
        "  def __init__(self,b,g,fname,lname):\n",
        "    self.b=b\n",
        "    self.g=g\n",
        "    self.fname=fname\n",
        "    self.lname=lname\n",
        "\n",
        "  def __add__(self):\n",
        "    return f\"Total no. of students in a class {self.b+self.g}\"\n",
        "\n",
        "  def __str__(self):\n",
        "    return f\"Full name is {self.fname+' '+self.lname}\"\n"
      ],
      "metadata": {
        "id": "FyxubuVQuZuJ"
      },
      "execution_count": 82,
      "outputs": []
    },
    {
      "cell_type": "code",
      "source": [
        "c=Collage(50,50,'puppala','mahesh')"
      ],
      "metadata": {
        "id": "gyZdO_9zwele"
      },
      "execution_count": 83,
      "outputs": []
    },
    {
      "cell_type": "code",
      "source": [
        "print(c)"
      ],
      "metadata": {
        "colab": {
          "base_uri": "https://localhost:8080/"
        },
        "id": "Ntu-GYU6w2Df",
        "outputId": "bfc91673-f31e-4ee9-a3d5-784618084322"
      },
      "execution_count": 81,
      "outputs": [
        {
          "output_type": "stream",
          "name": "stdout",
          "text": [
            "Full name is puppala mahesh\n"
          ]
        }
      ]
    },
    {
      "cell_type": "code",
      "source": [
        "print(c.__add__())"
      ],
      "metadata": {
        "colab": {
          "base_uri": "https://localhost:8080/"
        },
        "id": "jhtLzgFX1CQs",
        "outputId": "409308bf-40a2-4123-ab97-4dd929591fa6"
      },
      "execution_count": 86,
      "outputs": [
        {
          "output_type": "stream",
          "name": "stdout",
          "text": [
            "Total no. of students in a class 100\n"
          ]
        }
      ]
    },
    {
      "cell_type": "markdown",
      "source": [
        "**12. Create a decorator that measures and prints the execution time of a function?**"
      ],
      "metadata": {
        "id": "JGFUgAnDxEW6"
      }
    },
    {
      "cell_type": "code",
      "source": [
        "import time\n",
        "\n",
        "def Decorator(func):\n",
        "  def wrapper():\n",
        "    start=time.time()\n",
        "    print(start)\n",
        "    print(\"before the execution of function\")\n",
        "    func()\n",
        "    end=time.time()\n",
        "    print(\"after the execution of fuction\")\n",
        "    print(end)\n",
        "  return wrapper"
      ],
      "metadata": {
        "id": "NgywRH4K1jhx"
      },
      "execution_count": 96,
      "outputs": []
    },
    {
      "cell_type": "code",
      "source": [
        "@Decorator\n",
        "def execution_test():\n",
        "  print(\"hello world\")\n"
      ],
      "metadata": {
        "id": "E1uKlqVe5jEX"
      },
      "execution_count": 97,
      "outputs": []
    },
    {
      "cell_type": "code",
      "source": [
        "execution_test()"
      ],
      "metadata": {
        "colab": {
          "base_uri": "https://localhost:8080/"
        },
        "id": "T47I6vYa72Xf",
        "outputId": "ced108d9-bba7-478c-ecc1-2fc75037bb74"
      },
      "execution_count": 98,
      "outputs": [
        {
          "output_type": "stream",
          "name": "stdout",
          "text": [
            "1729830655.124088\n",
            "before the execution of function\n",
            "hello world\n",
            "after the execution of fuction\n",
            "1729830655.125964\n"
          ]
        }
      ]
    },
    {
      "cell_type": "markdown",
      "source": [
        "**13. Explain the concept of the Diamond Problem in multiple inheritance. How does Python resolve it?**\n",
        "\n",
        "The Diamond Problem occurs in programming languages that allow multiple inheritance, where a class can inherit from more than one parent class. It is called the \"diamond problem\" because of the shape formed when drawing an inheritance diagram.\n",
        "\n",
        "Here’s a breakdown of the concept:\n",
        "\n",
        "Diamond Problem Explained:\n",
        "Suppose class A is the base class.\n",
        "Two classes B and C inherit from class A.\n",
        "Another class D inherits from both B and C.\n",
        "In this scenario, if class A has a method (e.g., method_A), and class D calls method_A, it becomes ambiguous because the method might have been inherited from either class B or class C. The question arises: which version of method_A should be executed? This is the Diamond Problem.\n",
        "\n",
        "      A\n",
        "     / \\\n",
        "    B   C\n",
        "     \\ /\n",
        "      D\n",
        "**Python's Solution to the Diamond Problem:**\n",
        "\n",
        "Python resolves this problem using a technique called Method Resolution Order (MRO). The MRO defines the order in which base classes are searched when a method or attribute is accessed. Python uses the C3 linearization algorithm (also known as C3 superclass linearization) to determine the order.\n",
        "\n",
        "MRO in Python:\n",
        "\n",
        "The method resolution order is the order in which Python looks for methods or attributes in the class hierarchy. This ensures that each class is only called once and in a specific order, preventing ambiguity."
      ],
      "metadata": {
        "id": "rM-cjnQT7QBp"
      }
    },
    {
      "cell_type": "code",
      "source": [
        "class A:\n",
        "    def speak(self):\n",
        "        print(\"Class A speaking\")\n",
        "\n",
        "class B(A):\n",
        "    def speak(self):\n",
        "        print(\"Class B speaking\")\n",
        "\n",
        "class C(A):\n",
        "    def speak(self):\n",
        "        print(\"Class C speaking\")\n",
        "\n",
        "class D(B, C):\n",
        "    pass\n",
        "\n",
        "d = D()\n",
        "d.speak()  # Which 'speak' method gets called?\n",
        "print(D.mro())  # Show the method resolution order\n"
      ],
      "metadata": {
        "colab": {
          "base_uri": "https://localhost:8080/"
        },
        "id": "MiK98rgJ9TK_",
        "outputId": "8ead8399-90c5-46e0-833c-6e1161e4fc53"
      },
      "execution_count": 99,
      "outputs": [
        {
          "output_type": "stream",
          "name": "stdout",
          "text": [
            "Class B speaking\n",
            "[<class '__main__.D'>, <class '__main__.B'>, <class '__main__.C'>, <class '__main__.A'>, <class 'object'>]\n"
          ]
        }
      ]
    },
    {
      "cell_type": "markdown",
      "source": [
        "**14. Write a class method that keeps track of the number of instances created from a class?**\n",
        "\n"
      ],
      "metadata": {
        "id": "bNIMkr-b9vQH"
      }
    },
    {
      "cell_type": "code",
      "source": [
        "class Method:\n",
        "\n",
        "  count=0\n",
        "  name=None\n",
        "  age=None\n",
        "\n",
        "  def __init__(self,name,age):\n",
        "    self.name=name\n",
        "    self.age=age\n",
        "    Method.count+=1\n",
        "\n",
        "  @classmethod\n",
        "\n",
        "  def __set__m(cls,name,age):\n",
        "    cls.name=name\n",
        "    cls.age=age\n",
        "    cls.count+=1\n",
        "    return cls.count\n",
        "\n",
        "  @classmethod\n",
        "  def count_inst(cls):\n",
        "    return cls.count\n",
        "\n",
        "  @classmethod\n",
        "  def get_m(cls):\n",
        "    return f\"{cls.name} \\n {cls.age}\"\n"
      ],
      "metadata": {
        "id": "b3tWs4Vu9zt0"
      },
      "execution_count": 109,
      "outputs": []
    },
    {
      "cell_type": "code",
      "source": [
        "m=Method('puppala',23)\n",
        "b=Method('mahesh',24)"
      ],
      "metadata": {
        "id": "rz3TIJW6AHSQ"
      },
      "execution_count": 112,
      "outputs": []
    },
    {
      "cell_type": "code",
      "source": [
        "c=Method('mahesh',24)"
      ],
      "metadata": {
        "id": "xZ_qSmRGBz1o"
      },
      "execution_count": 114,
      "outputs": []
    },
    {
      "cell_type": "code",
      "source": [
        "Method.count_inst()"
      ],
      "metadata": {
        "colab": {
          "base_uri": "https://localhost:8080/"
        },
        "id": "t6r0z2g9AOG7",
        "outputId": "0ecaf6b8-390c-4f7c-e9bc-6a13872738d4"
      },
      "execution_count": 115,
      "outputs": [
        {
          "output_type": "execute_result",
          "data": {
            "text/plain": [
              "4"
            ]
          },
          "metadata": {},
          "execution_count": 115
        }
      ]
    },
    {
      "cell_type": "markdown",
      "source": [
        "**15.Implement a static method in a class that checks if a given year is a leap year?**\n",
        "\n"
      ],
      "metadata": {
        "id": "uXEfQiV7B4kN"
      }
    },
    {
      "cell_type": "code",
      "source": [
        "class Leap:\n",
        "\n",
        "  @staticmethod\n",
        "  def check_leap(year):\n",
        "    if (year % 4 == 0 and year % 100 != 0) or (year % 400 == 0):\n",
        "      return f\"{year} is a leap year\"\n",
        "    else:\n",
        "      return f\"{year} is not a leap year\""
      ],
      "metadata": {
        "id": "5lofd09FCBDy"
      },
      "execution_count": 116,
      "outputs": []
    },
    {
      "cell_type": "code",
      "source": [
        "Leap.check_leap(2020)"
      ],
      "metadata": {
        "colab": {
          "base_uri": "https://localhost:8080/",
          "height": 36
        },
        "id": "VK6KjXZ7CZb8",
        "outputId": "fae41fb3-6d2a-4c59-d7eb-00d6a3a2dc63"
      },
      "execution_count": 117,
      "outputs": [
        {
          "output_type": "execute_result",
          "data": {
            "text/plain": [
              "'2020 is a leap year'"
            ],
            "application/vnd.google.colaboratory.intrinsic+json": {
              "type": "string"
            }
          },
          "metadata": {},
          "execution_count": 117
        }
      ]
    }
  ]
}
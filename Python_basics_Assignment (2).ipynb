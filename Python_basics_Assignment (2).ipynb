{
  "nbformat": 4,
  "nbformat_minor": 0,
  "metadata": {
    "colab": {
      "provenance": []
    },
    "kernelspec": {
      "name": "python3",
      "display_name": "Python 3"
    },
    "language_info": {
      "name": "python"
    }
  },
  "cells": [
    {
      "cell_type": "markdown",
      "source": [
        "# Python Assignment"
      ],
      "metadata": {
        "id": "cO-1qw1NopQP"
      }
    },
    {
      "cell_type": "markdown",
      "source": [
        "**1Q. Explain the key features of Python that make it a popular choice for programming?**"
      ],
      "metadata": {
        "id": "jOAKNnzcpAzA"
      }
    },
    {
      "cell_type": "markdown",
      "source": [
        "#####Python is a widely popular programming language, and several key features contribute to its success and widespread adoption across different domains. Here are some of the key features that make Python a favorite among programmers"
      ],
      "metadata": {
        "id": "Quwi9Gc2eGAr"
      }
    },
    {
      "cell_type": "markdown",
      "source": [
        "**1.Easy to Learn and Use:** Python has simple, human-readable syntax, making it beginner-friendly and easy to write and understand.\n",
        "\n",
        "**2.Interpreted Language:** Python executes code line by line, making debugging easier without the need for compiling.\n",
        "\n",
        "**3.Cross-Platform:** It runs on various operating systems like Windows, Mac, and Linux, making code portable.\n",
        "\n",
        "**4.Large Standard Library:** Python offers a rich set of built-in libraries that reduce the need for external dependencies for many tasks.\n",
        "\n",
        "**5.Dynamically Typed:** You don't need to declare variable types, as Python automatically assigns them, allowing for more flexible code.\n",
        "\n",
        "**6.Extensive Support for Third-Party Modules:** Python has a huge ecosystem of external libraries like NumPy, Pandas, and TensorFlow for specialized tasks.\n",
        "\n",
        "**7.Object-Oriented:** Python supports object-oriented programming concepts like classes and objects, which help in organizing code and reusability.\n",
        "\n",
        "**8.Strong Community Support:** Python has an active global community, offering plenty of resources, tutorials, and support for learning and problem-solving.\n",
        "\n",
        "**9.Great for Prototyping:** Python allows rapid development and testing of ideas with minimal code, making it ideal for prototyping."
      ],
      "metadata": {
        "id": "CQsLVLFriGLV"
      }
    },
    {
      "cell_type": "markdown",
      "source": [
        "\n",
        "**2Q.Describe the role of predefined keywords in Python and provide examples of how they are used in a program?**"
      ],
      "metadata": {
        "id": "b_r5ToKNkuf-"
      }
    },
    {
      "cell_type": "markdown",
      "source": [
        "#####Predefined keywords in Python are reserved words that have special meanings and cannot be used as variable names. They control the program's structure and logic."
      ],
      "metadata": {
        "id": "41XM7nWnkfPi"
      }
    },
    {
      "cell_type": "markdown",
      "source": [
        "**Exe :** here def is a keyword for creating a function."
      ],
      "metadata": {
        "id": "bF_GNPaDmT-c"
      }
    },
    {
      "cell_type": "code",
      "source": [
        "def greet():\n",
        "    print(\"Hello\")\n",
        "greet()"
      ],
      "metadata": {
        "colab": {
          "base_uri": "https://localhost:8080/"
        },
        "id": "NG9RwEXNmaGN",
        "outputId": "b1281bf5-6580-45c6-9c94-e46ce7593b50"
      },
      "execution_count": 1,
      "outputs": [
        {
          "output_type": "stream",
          "name": "stdout",
          "text": [
            "Hello\n"
          ]
        }
      ]
    },
    {
      "cell_type": "markdown",
      "source": [
        "**3Q. Compare and contrast mutable and immutable objects in Python with examples**"
      ],
      "metadata": {
        "id": "8rhgsqRCnBay"
      }
    },
    {
      "cell_type": "markdown",
      "source": [
        "#####In Python, mutable objects can be changed after they are created, while immutable objects cannot be changed once defined.\n",
        "\n",
        "**Mutable:**\n",
        "Lists, dictionaries, sets are mutable.\n",
        "You can modify their elements directly.\n",
        "\n",
        "**Exe**"
      ],
      "metadata": {
        "id": "eCKm1uhCntIP"
      }
    },
    {
      "cell_type": "code",
      "source": [
        "my_list = [1, 2, 3]\n",
        "my_list[0] = 10  # Modifies the list\n",
        "print(my_list)  # Output: [10, 2, 3]"
      ],
      "metadata": {
        "colab": {
          "base_uri": "https://localhost:8080/"
        },
        "id": "CLblzv1Sn9Fk",
        "outputId": "bb53e0d6-b247-4b2b-c905-e0b6e6bdcb02"
      },
      "execution_count": 2,
      "outputs": [
        {
          "output_type": "stream",
          "name": "stdout",
          "text": [
            "[10, 2, 3]\n"
          ]
        }
      ]
    },
    {
      "cell_type": "markdown",
      "source": [
        "**Immutable:**\n",
        "#####Strings, tuples, integers are immutable. we can not directly change the string instead we can perform some operations on it."
      ],
      "metadata": {
        "id": "1ZClQqNzoAl6"
      }
    },
    {
      "cell_type": "code",
      "source": [
        "my_string = \"hello\"\n",
        "my_string = my_string + \" world\"  # Creates a new string\n",
        "print(my_string)  # Output: \"hello world\"\n"
      ],
      "metadata": {
        "colab": {
          "base_uri": "https://localhost:8080/"
        },
        "id": "iZv937lqoIsk",
        "outputId": "ea2eb4fe-1cd0-446c-d56d-d8d83dcf17e6"
      },
      "execution_count": 3,
      "outputs": [
        {
          "output_type": "stream",
          "name": "stdout",
          "text": [
            "hello world\n"
          ]
        }
      ]
    },
    {
      "cell_type": "markdown",
      "source": [
        "**4Q. Discuss the different types of operators in Python and provide examples of how they are used**"
      ],
      "metadata": {
        "id": "XehBjfw9p16J"
      }
    },
    {
      "cell_type": "markdown",
      "source": [
        "In Python, operators perform operations on variables and values\n",
        "\n",
        "**1.Arithmetic Operators:** Used for mathematical operations i.e addition."
      ],
      "metadata": {
        "id": "5DRiJ8CKp_Tr"
      }
    },
    {
      "cell_type": "code",
      "source": [
        "#Exe\n",
        "a = 5 + 3 # Addition, result is 8\n",
        "b = 10 - 2 # Subtraction, result is 8"
      ],
      "metadata": {
        "id": "bReAKp8kp5kM"
      },
      "execution_count": 4,
      "outputs": []
    },
    {
      "cell_type": "markdown",
      "source": [
        "**2.Comparison Operators:** Compare two values and return a Boolean.\n",
        "\n"
      ],
      "metadata": {
        "id": "GaplGxMmqzKb"
      }
    },
    {
      "cell_type": "code",
      "source": [
        "#Exe\n",
        "5 > 3  # True\n",
        "7 == 7  # True"
      ],
      "metadata": {
        "colab": {
          "base_uri": "https://localhost:8080/"
        },
        "id": "w7QEfG12rJw-",
        "outputId": "fb757bb4-176b-45c0-c4b3-9c0bce8a8420"
      },
      "execution_count": 5,
      "outputs": [
        {
          "output_type": "execute_result",
          "data": {
            "text/plain": [
              "True"
            ]
          },
          "metadata": {},
          "execution_count": 5
        }
      ]
    },
    {
      "cell_type": "markdown",
      "source": [
        "**3.Logical Operators:** Combine conditional statements.\n",
        "\n",
        "Example:"
      ],
      "metadata": {
        "id": "OYM0-0yXrYMb"
      }
    },
    {
      "cell_type": "code",
      "source": [
        "(5 > 3) and (7 > 2)  # True\n",
        "(5 < 3) or (7 > 2)  # True"
      ],
      "metadata": {
        "colab": {
          "base_uri": "https://localhost:8080/"
        },
        "id": "zgIoxU-srfqJ",
        "outputId": "50ecfb96-cd37-449e-d2db-c7a0ec57c265"
      },
      "execution_count": 6,
      "outputs": [
        {
          "output_type": "execute_result",
          "data": {
            "text/plain": [
              "True"
            ]
          },
          "metadata": {},
          "execution_count": 6
        }
      ]
    },
    {
      "cell_type": "markdown",
      "source": [
        "**4.Assignment Operators:** Assign values to variables.\n",
        "\n",
        "Example:"
      ],
      "metadata": {
        "id": "JaRk7286sO-o"
      }
    },
    {
      "cell_type": "code",
      "source": [
        "x = 10  # Assigns 10 to x\n",
        "x += 5  # Adds 5 to x, now x is 15"
      ],
      "metadata": {
        "id": "AOYryFmdspkd"
      },
      "execution_count": 7,
      "outputs": []
    },
    {
      "cell_type": "markdown",
      "source": [
        "**5.Bitwise Operators:** Operate on binary numbers.\n",
        "\n",
        "**Example**\n",
        "\n"
      ],
      "metadata": {
        "id": "BwVLk2hmrqry"
      }
    },
    {
      "cell_type": "code",
      "source": [
        "a = 5 & 3  # Bitwise AND, result is 1 (binary: 101 & 011 = 001)\n",
        "b = 5 | 3  # Bitwise OR, result is 7 (binary: 101 | 011 = 111)\n",
        "c = 5 ^ 3  # Bitwise XOR, result is 6 (binary: 101 ^ 011 = 110)"
      ],
      "metadata": {
        "id": "wIks13hQOA2n"
      },
      "execution_count": 8,
      "outputs": []
    },
    {
      "cell_type": "markdown",
      "source": [
        "**6.Membership Operators:** Check for membership in sequences like strings, lists, or tuples.\n",
        "\n",
        "**Example**"
      ],
      "metadata": {
        "id": "3Gx_LlY8Oo8c"
      }
    },
    {
      "cell_type": "code",
      "source": [
        "print('a' in 'apple')  # True\n",
        "print(5 not in [1, 2, 3])  # True"
      ],
      "metadata": {
        "colab": {
          "base_uri": "https://localhost:8080/"
        },
        "id": "s-ZSR9_kOsQD",
        "outputId": "10b0843a-aa4f-4548-d0cc-711a4a182a22"
      },
      "execution_count": 9,
      "outputs": [
        {
          "output_type": "stream",
          "name": "stdout",
          "text": [
            "True\n",
            "True\n"
          ]
        }
      ]
    },
    {
      "cell_type": "markdown",
      "source": [
        "###5Q.explain the concept of type casting in Python with examples"
      ],
      "metadata": {
        "id": "brC_aAnNQHdJ"
      }
    },
    {
      "cell_type": "code",
      "source": [
        "# Integer to Float\n",
        "a = 5\n",
        "b = float(a)  # Converts integer 5 to float 5.0\n",
        "print(b)  # Output: 5.0\n",
        "\n",
        "# Float to Integer\n",
        "c = 3.7\n",
        "d = int(c)  # Converts float 3.7 to integer 3 (truncates decimal)\n",
        "print(d)  # Output: 3\n",
        "\n",
        "# String to Integer\n",
        "e = \"10\"\n",
        "f = int(e)  # Converts string \"10\" to integer 10\n",
        "print(f)  # Output: 10\n",
        "\n",
        "# Integer to String\n",
        "g = 25\n",
        "h = str(g)  # Converts integer 25 to string \"25\"\n",
        "print(h)  # Output: \"25\"\n"
      ],
      "metadata": {
        "colab": {
          "base_uri": "https://localhost:8080/"
        },
        "id": "0wNgUJ9vQNJj",
        "outputId": "73180546-9f4f-4322-9761-e84059ec4369"
      },
      "execution_count": 10,
      "outputs": [
        {
          "output_type": "stream",
          "name": "stdout",
          "text": [
            "5.0\n",
            "3\n",
            "10\n",
            "25\n"
          ]
        }
      ]
    },
    {
      "cell_type": "markdown",
      "source": [
        "###6.How do conditional statements work in Python? Illustrate with examples?"
      ],
      "metadata": {
        "id": "F2gQJpn2Tb4U"
      }
    },
    {
      "cell_type": "markdown",
      "source": [
        "#####Conditional statements in Python allow you to execute specific blocks of code based on conditions. The main conditional statements are if, elif, and else.\n",
        "#####if condition is true it will execute the code in side the if, other wise it will execute the else block or outter statement or block.\n",
        "\n",
        "**Example 1: Basic if Statement**"
      ],
      "metadata": {
        "id": "DMJBxj0nTs0Z"
      }
    },
    {
      "cell_type": "code",
      "source": [
        "x = 10\n",
        "if x > 5:\n",
        "    print(\"x is greater than 5\")\n"
      ],
      "metadata": {
        "colab": {
          "base_uri": "https://localhost:8080/"
        },
        "id": "Rwq5eXobTlwV",
        "outputId": "4799d6fb-300b-435f-a163-9b0735852894"
      },
      "execution_count": 11,
      "outputs": [
        {
          "output_type": "stream",
          "name": "stdout",
          "text": [
            "x is greater than 5\n"
          ]
        }
      ]
    },
    {
      "cell_type": "markdown",
      "source": [
        "**Example 2: if-else Statement**"
      ],
      "metadata": {
        "id": "AoMhhKjFUb1I"
      }
    },
    {
      "cell_type": "code",
      "source": [
        "x = 3\n",
        "if x > 5:\n",
        "    print(\"x is greater than 5\")\n",
        "else:\n",
        "    print(\"x is not greater than 5\")"
      ],
      "metadata": {
        "colab": {
          "base_uri": "https://localhost:8080/"
        },
        "id": "JjJ3g1tVUf5w",
        "outputId": "b5db07df-2266-45d4-ef75-3c4d6950da0c"
      },
      "execution_count": 12,
      "outputs": [
        {
          "output_type": "stream",
          "name": "stdout",
          "text": [
            "x is not greater than 5\n"
          ]
        }
      ]
    },
    {
      "cell_type": "markdown",
      "source": [
        "**Example 3: if-elif-else Statement**"
      ],
      "metadata": {
        "id": "F_ArTf6ZUqj5"
      }
    },
    {
      "cell_type": "code",
      "source": [
        "x = 8\n",
        "if x > 10:\n",
        "    print(\"x is greater than 10\")\n",
        "elif x == 8:\n",
        "    print(\"x is equal to 8\")\n",
        "else:\n",
        "    print(\"x is less than 10\")"
      ],
      "metadata": {
        "colab": {
          "base_uri": "https://localhost:8080/"
        },
        "id": "JD00cZx7UtxA",
        "outputId": "8e43d919-251f-4f18-f488-fbb1250f4118"
      },
      "execution_count": 13,
      "outputs": [
        {
          "output_type": "stream",
          "name": "stdout",
          "text": [
            "x is equal to 8\n"
          ]
        }
      ]
    },
    {
      "cell_type": "markdown",
      "source": [
        "These statements help control the flow of a program by executing code only when certain conditions are met."
      ],
      "metadata": {
        "id": "wCUksWIvU_Hx"
      }
    },
    {
      "cell_type": "markdown",
      "source": [
        "####7.Describe the different types of loops in Python and their use cases with examples?"
      ],
      "metadata": {
        "id": "hZXDAuSFZQxS"
      }
    },
    {
      "cell_type": "markdown",
      "source": [
        "Python has two main types of loops: for and while. Both are used to execute a block of code repeatedly, but they differ in how they control the iteration."
      ],
      "metadata": {
        "id": "ebD_zBKlZYyv"
      }
    },
    {
      "cell_type": "markdown",
      "source": [
        "**1. for Loop:**\n",
        "Used to iterate over a sequence (like a list, string, or range) and perform operations for each item in the sequence.\n",
        "Use case: When you know the number of iterations or need to iterate over a collection (like a list or string).\n",
        "\n",
        "**Example:**"
      ],
      "metadata": {
        "id": "UTGsJWigZibq"
      }
    },
    {
      "cell_type": "code",
      "source": [
        "fruits = [\"apple\", \"banana\", \"cherry\"]\n",
        "for fruit in fruits:\n",
        "    print(fruit)"
      ],
      "metadata": {
        "colab": {
          "base_uri": "https://localhost:8080/"
        },
        "id": "tasbHfW2VEDf",
        "outputId": "f55ad679-0fa3-4d84-f467-1a70ef6db515"
      },
      "execution_count": 14,
      "outputs": [
        {
          "output_type": "stream",
          "name": "stdout",
          "text": [
            "apple\n",
            "banana\n",
            "cherry\n"
          ]
        }
      ]
    },
    {
      "cell_type": "markdown",
      "source": [
        "**2. while Loop:**\n",
        "Repeats a block of code as long as a specified condition is true.\n",
        "\n",
        "Use case: When you want to repeat an action while a condition remains true (and don't know how many times beforehand).\n",
        "\n",
        "**Example:**"
      ],
      "metadata": {
        "id": "jh9GRJ-maDIQ"
      }
    },
    {
      "cell_type": "code",
      "source": [
        "x = 5\n",
        "while x > 0:\n",
        "    print(x)\n",
        "    x -= 1"
      ],
      "metadata": {
        "colab": {
          "base_uri": "https://localhost:8080/"
        },
        "id": "yvag0K2sZx4e",
        "outputId": "35532988-865f-4457-8f9a-f511344d45c4"
      },
      "execution_count": 15,
      "outputs": [
        {
          "output_type": "stream",
          "name": "stdout",
          "text": [
            "5\n",
            "4\n",
            "3\n",
            "2\n",
            "1\n"
          ]
        }
      ]
    }
  ]
}